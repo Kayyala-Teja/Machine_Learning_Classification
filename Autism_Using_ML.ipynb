{
  "nbformat": 4,
  "nbformat_minor": 0,
  "metadata": {
    "colab": {
      "name": "Autism_Using_ML.ipynb",
      "provenance": []
    },
    "kernelspec": {
      "name": "python3",
      "display_name": "Python 3"
    },
    "language_info": {
      "name": "python"
    },
    "accelerator": "GPU"
  },
  "cells": [
    {
      "cell_type": "markdown",
      "metadata": {
        "id": "v0b7zD8lkUgb"
      },
      "source": [
        "# Importing and Quick view of Dataset"
      ]
    },
    {
      "cell_type": "code",
      "metadata": {
        "colab": {
          "base_uri": "https://localhost:8080/",
          "height": 313
        },
        "id": "L_V9TMHRkQrw",
        "outputId": "7abe6024-e294-4a3f-df3c-0b3c4822f1f2"
      },
      "source": [
        "# Import libraries necessary for this project\n",
        "import numpy as np\n",
        "import pandas as pd\n",
        "from time import time\n",
        "from IPython.display import display\n",
        "\n",
        "# Pretty display for notebooks\n",
        "%matplotlib inline\n",
        "\n",
        "\n",
        "data = pd.read_csv('/content/drive/MyDrive/Adult_Autism.csv')\n",
        "display(data.head(n=5))"
      ],
      "execution_count": 2,
      "outputs": [
        {
          "output_type": "display_data",
          "data": {
            "text/html": [
              "<div>\n",
              "<style scoped>\n",
              "    .dataframe tbody tr th:only-of-type {\n",
              "        vertical-align: middle;\n",
              "    }\n",
              "\n",
              "    .dataframe tbody tr th {\n",
              "        vertical-align: top;\n",
              "    }\n",
              "\n",
              "    .dataframe thead th {\n",
              "        text-align: right;\n",
              "    }\n",
              "</style>\n",
              "<table border=\"1\" class=\"dataframe\">\n",
              "  <thead>\n",
              "    <tr style=\"text-align: right;\">\n",
              "      <th></th>\n",
              "      <th>A1_Score</th>\n",
              "      <th>A2_Score</th>\n",
              "      <th>A3_Score</th>\n",
              "      <th>A4_Score</th>\n",
              "      <th>A5_Score</th>\n",
              "      <th>A6_Score</th>\n",
              "      <th>A7_Score</th>\n",
              "      <th>A8_Score</th>\n",
              "      <th>A9_Score</th>\n",
              "      <th>A10_Score</th>\n",
              "      <th>age</th>\n",
              "      <th>gender</th>\n",
              "      <th>ethnicity</th>\n",
              "      <th>jundice</th>\n",
              "      <th>autism</th>\n",
              "      <th>country</th>\n",
              "      <th>used_app_before</th>\n",
              "      <th>result</th>\n",
              "      <th>age_desc</th>\n",
              "      <th>relation</th>\n",
              "      <th>Class/ASD</th>\n",
              "    </tr>\n",
              "  </thead>\n",
              "  <tbody>\n",
              "    <tr>\n",
              "      <th>0</th>\n",
              "      <td>1</td>\n",
              "      <td>1</td>\n",
              "      <td>1</td>\n",
              "      <td>1</td>\n",
              "      <td>0</td>\n",
              "      <td>0</td>\n",
              "      <td>1</td>\n",
              "      <td>1</td>\n",
              "      <td>0</td>\n",
              "      <td>0</td>\n",
              "      <td>26</td>\n",
              "      <td>f</td>\n",
              "      <td>White-European</td>\n",
              "      <td>no</td>\n",
              "      <td>no</td>\n",
              "      <td>'United States'</td>\n",
              "      <td>no</td>\n",
              "      <td>6</td>\n",
              "      <td>'18 and more'</td>\n",
              "      <td>Self</td>\n",
              "      <td>NO</td>\n",
              "    </tr>\n",
              "    <tr>\n",
              "      <th>1</th>\n",
              "      <td>1</td>\n",
              "      <td>1</td>\n",
              "      <td>0</td>\n",
              "      <td>1</td>\n",
              "      <td>0</td>\n",
              "      <td>0</td>\n",
              "      <td>0</td>\n",
              "      <td>1</td>\n",
              "      <td>0</td>\n",
              "      <td>1</td>\n",
              "      <td>24</td>\n",
              "      <td>m</td>\n",
              "      <td>Latino</td>\n",
              "      <td>no</td>\n",
              "      <td>yes</td>\n",
              "      <td>Brazil</td>\n",
              "      <td>no</td>\n",
              "      <td>5</td>\n",
              "      <td>'18 and more'</td>\n",
              "      <td>Self</td>\n",
              "      <td>NO</td>\n",
              "    </tr>\n",
              "    <tr>\n",
              "      <th>2</th>\n",
              "      <td>1</td>\n",
              "      <td>1</td>\n",
              "      <td>0</td>\n",
              "      <td>1</td>\n",
              "      <td>1</td>\n",
              "      <td>0</td>\n",
              "      <td>1</td>\n",
              "      <td>1</td>\n",
              "      <td>1</td>\n",
              "      <td>1</td>\n",
              "      <td>27</td>\n",
              "      <td>m</td>\n",
              "      <td>Latino</td>\n",
              "      <td>yes</td>\n",
              "      <td>yes</td>\n",
              "      <td>Spain</td>\n",
              "      <td>no</td>\n",
              "      <td>8</td>\n",
              "      <td>'18 and more'</td>\n",
              "      <td>Parent</td>\n",
              "      <td>YES</td>\n",
              "    </tr>\n",
              "    <tr>\n",
              "      <th>3</th>\n",
              "      <td>1</td>\n",
              "      <td>1</td>\n",
              "      <td>0</td>\n",
              "      <td>1</td>\n",
              "      <td>0</td>\n",
              "      <td>0</td>\n",
              "      <td>1</td>\n",
              "      <td>1</td>\n",
              "      <td>0</td>\n",
              "      <td>1</td>\n",
              "      <td>35</td>\n",
              "      <td>f</td>\n",
              "      <td>White-European</td>\n",
              "      <td>no</td>\n",
              "      <td>yes</td>\n",
              "      <td>'United States'</td>\n",
              "      <td>no</td>\n",
              "      <td>6</td>\n",
              "      <td>'18 and more'</td>\n",
              "      <td>Self</td>\n",
              "      <td>NO</td>\n",
              "    </tr>\n",
              "    <tr>\n",
              "      <th>4</th>\n",
              "      <td>1</td>\n",
              "      <td>0</td>\n",
              "      <td>0</td>\n",
              "      <td>0</td>\n",
              "      <td>0</td>\n",
              "      <td>0</td>\n",
              "      <td>0</td>\n",
              "      <td>1</td>\n",
              "      <td>0</td>\n",
              "      <td>0</td>\n",
              "      <td>40</td>\n",
              "      <td>f</td>\n",
              "      <td>?</td>\n",
              "      <td>no</td>\n",
              "      <td>no</td>\n",
              "      <td>Egypt</td>\n",
              "      <td>no</td>\n",
              "      <td>2</td>\n",
              "      <td>'18 and more'</td>\n",
              "      <td>?</td>\n",
              "      <td>NO</td>\n",
              "    </tr>\n",
              "  </tbody>\n",
              "</table>\n",
              "</div>"
            ],
            "text/plain": [
              "   A1_Score  A2_Score  A3_Score  ...       age_desc  relation  Class/ASD\n",
              "0         1         1         1  ...  '18 and more'      Self         NO\n",
              "1         1         1         0  ...  '18 and more'      Self         NO\n",
              "2         1         1         0  ...  '18 and more'    Parent        YES\n",
              "3         1         1         0  ...  '18 and more'      Self         NO\n",
              "4         1         0         0  ...  '18 and more'         ?         NO\n",
              "\n",
              "[5 rows x 21 columns]"
            ]
          },
          "metadata": {}
        }
      ]
    },
    {
      "cell_type": "code",
      "metadata": {
        "colab": {
          "base_uri": "https://localhost:8080/"
        },
        "id": "cV025m_txXgl",
        "outputId": "dbae777d-abc6-4d8e-f821-e811f14943e3"
      },
      "source": [
        "from google.colab import drive\n",
        "drive.mount('/content/drive')"
      ],
      "execution_count": 3,
      "outputs": [
        {
          "output_type": "stream",
          "name": "stdout",
          "text": [
            "Drive already mounted at /content/drive; to attempt to forcibly remount, call drive.mount(\"/content/drive\", force_remount=True).\n"
          ]
        }
      ]
    },
    {
      "cell_type": "markdown",
      "metadata": {
        "id": "o6nqp0WJllvq"
      },
      "source": [
        "# Finding the count of records"
      ]
    },
    {
      "cell_type": "code",
      "metadata": {
        "colab": {
          "base_uri": "https://localhost:8080/"
        },
        "id": "7kjttAuHlet3",
        "outputId": "77e83859-2abe-48c2-baae-e2bfcc0df72f"
      },
      "source": [
        "# Total number of records\n",
        "n_records = len(data.index)\n",
        "\n",
        "# Number of records where individual's with ASD\n",
        "n_asd_yes = len(data[data['Class/ASD'] == 'YES'])\n",
        "\n",
        "# Number of records where individual's with no ASD\n",
        "n_asd_no = len(data[data['Class/ASD'] == 'NO'])\n",
        "\n",
        "# Percentage of individuals whose are with ASD\n",
        "yes_percent = float(n_asd_yes) / n_records *100\n",
        "\n",
        "# Print the results\n",
        "print (\"Total number of records: {}\".format(n_records))\n",
        "print (\"Individuals diagonised with ASD: {}\".format(n_asd_yes))\n",
        "print (\"Individuals not diagonised with ASD: {}\".format(n_asd_no))\n",
        "print (\"Percentage of individuals diagonised with ASD: {:.2f}%\".format(yes_percent))"
      ],
      "execution_count": 4,
      "outputs": [
        {
          "output_type": "stream",
          "name": "stdout",
          "text": [
            "Total number of records: 704\n",
            "Individuals diagonised with ASD: 189\n",
            "Individuals not diagonised with ASD: 515\n",
            "Percentage of individuals diagonised with ASD: 26.85%\n"
          ]
        }
      ]
    },
    {
      "cell_type": "markdown",
      "metadata": {
        "id": "xTDO7ZzdmEVP"
      },
      "source": [
        "**Featureset Exploration**\n",
        "\n",
        "This data contains 704 instances, and contains the following attributes:\n",
        "\n",
        "age: number (Age in years).\n",
        "\n",
        "gendar: String [Male/Female].\n",
        "\n",
        "ethnicity: String (List of common ethnicities in text format).\n",
        "\n",
        "Born with jaundice: Boolean [yes or no].\n",
        "\n",
        "Family member with PDD: Boolean [yes or no].\n",
        "\n",
        "Who is completing the test: String [Parent, self, caregiver, medical staff, clinician ,etc.].\n",
        "\n",
        "Country of residence : String (List of countries in text format).\n",
        "Used the screening app before : Boolean [yes or no] (Whether the user has used a screening app)\n",
        "\n",
        "Screening Method Type: Integer [0,1,2,3] (The type of screening methods chosen based on age category (0=toddler, 1=child, 2= adolescent, 3= adult).\n",
        "\n",
        "Question 1-10 Answer: Binary [0, 1] (The answer code of the question based on the screening method used).\n",
        "\n",
        "Screening Score: Integer (The final score obtained based on the scoring algorithm of the screening method used. This was computed in an automated manner).\n"
      ]
    },
    {
      "cell_type": "markdown",
      "metadata": {
        "id": "hUp723uSm7n1"
      },
      "source": [
        "# Data Preprocessing"
      ]
    },
    {
      "cell_type": "markdown",
      "metadata": {
        "id": "YSnDtMLfnIt_"
      },
      "source": [
        "Before data can be used as input for machine learning algorithms, it must be cleaned, formatted, and maybe even restructured — this is typically known as preprocessing. Unfortunately, for this dataset, there are many invalid or missing entries(?) we must deal with, moreover, there are some qualities about certain features that must be adjusted. This preprocessing can help tremendously with the outcome and predictive power of nearly all learning algorithms.\n",
        "\n",
        "I use the optional parmaters in read_csv to convert missing data (indicated by a ?) into NaN, and to add the appropriate column names ():"
      ]
    },
    {
      "cell_type": "code",
      "metadata": {
        "colab": {
          "base_uri": "https://localhost:8080/",
          "height": 313
        },
        "id": "fzBe_28Sl58w",
        "outputId": "0fd0e426-da9a-4414-9cc4-cbecc2f78d4d"
      },
      "source": [
        "asd_data = pd.read_csv('/content/drive/MyDrive/Adult_Autism.csv', na_values=['?'])\n",
        "asd_data.head(n=5)"
      ],
      "execution_count": 5,
      "outputs": [
        {
          "output_type": "execute_result",
          "data": {
            "text/html": [
              "<div>\n",
              "<style scoped>\n",
              "    .dataframe tbody tr th:only-of-type {\n",
              "        vertical-align: middle;\n",
              "    }\n",
              "\n",
              "    .dataframe tbody tr th {\n",
              "        vertical-align: top;\n",
              "    }\n",
              "\n",
              "    .dataframe thead th {\n",
              "        text-align: right;\n",
              "    }\n",
              "</style>\n",
              "<table border=\"1\" class=\"dataframe\">\n",
              "  <thead>\n",
              "    <tr style=\"text-align: right;\">\n",
              "      <th></th>\n",
              "      <th>A1_Score</th>\n",
              "      <th>A2_Score</th>\n",
              "      <th>A3_Score</th>\n",
              "      <th>A4_Score</th>\n",
              "      <th>A5_Score</th>\n",
              "      <th>A6_Score</th>\n",
              "      <th>A7_Score</th>\n",
              "      <th>A8_Score</th>\n",
              "      <th>A9_Score</th>\n",
              "      <th>A10_Score</th>\n",
              "      <th>age</th>\n",
              "      <th>gender</th>\n",
              "      <th>ethnicity</th>\n",
              "      <th>jundice</th>\n",
              "      <th>autism</th>\n",
              "      <th>country</th>\n",
              "      <th>used_app_before</th>\n",
              "      <th>result</th>\n",
              "      <th>age_desc</th>\n",
              "      <th>relation</th>\n",
              "      <th>Class/ASD</th>\n",
              "    </tr>\n",
              "  </thead>\n",
              "  <tbody>\n",
              "    <tr>\n",
              "      <th>0</th>\n",
              "      <td>1</td>\n",
              "      <td>1</td>\n",
              "      <td>1</td>\n",
              "      <td>1</td>\n",
              "      <td>0</td>\n",
              "      <td>0</td>\n",
              "      <td>1</td>\n",
              "      <td>1</td>\n",
              "      <td>0</td>\n",
              "      <td>0</td>\n",
              "      <td>26.0</td>\n",
              "      <td>f</td>\n",
              "      <td>White-European</td>\n",
              "      <td>no</td>\n",
              "      <td>no</td>\n",
              "      <td>'United States'</td>\n",
              "      <td>no</td>\n",
              "      <td>6</td>\n",
              "      <td>'18 and more'</td>\n",
              "      <td>Self</td>\n",
              "      <td>NO</td>\n",
              "    </tr>\n",
              "    <tr>\n",
              "      <th>1</th>\n",
              "      <td>1</td>\n",
              "      <td>1</td>\n",
              "      <td>0</td>\n",
              "      <td>1</td>\n",
              "      <td>0</td>\n",
              "      <td>0</td>\n",
              "      <td>0</td>\n",
              "      <td>1</td>\n",
              "      <td>0</td>\n",
              "      <td>1</td>\n",
              "      <td>24.0</td>\n",
              "      <td>m</td>\n",
              "      <td>Latino</td>\n",
              "      <td>no</td>\n",
              "      <td>yes</td>\n",
              "      <td>Brazil</td>\n",
              "      <td>no</td>\n",
              "      <td>5</td>\n",
              "      <td>'18 and more'</td>\n",
              "      <td>Self</td>\n",
              "      <td>NO</td>\n",
              "    </tr>\n",
              "    <tr>\n",
              "      <th>2</th>\n",
              "      <td>1</td>\n",
              "      <td>1</td>\n",
              "      <td>0</td>\n",
              "      <td>1</td>\n",
              "      <td>1</td>\n",
              "      <td>0</td>\n",
              "      <td>1</td>\n",
              "      <td>1</td>\n",
              "      <td>1</td>\n",
              "      <td>1</td>\n",
              "      <td>27.0</td>\n",
              "      <td>m</td>\n",
              "      <td>Latino</td>\n",
              "      <td>yes</td>\n",
              "      <td>yes</td>\n",
              "      <td>Spain</td>\n",
              "      <td>no</td>\n",
              "      <td>8</td>\n",
              "      <td>'18 and more'</td>\n",
              "      <td>Parent</td>\n",
              "      <td>YES</td>\n",
              "    </tr>\n",
              "    <tr>\n",
              "      <th>3</th>\n",
              "      <td>1</td>\n",
              "      <td>1</td>\n",
              "      <td>0</td>\n",
              "      <td>1</td>\n",
              "      <td>0</td>\n",
              "      <td>0</td>\n",
              "      <td>1</td>\n",
              "      <td>1</td>\n",
              "      <td>0</td>\n",
              "      <td>1</td>\n",
              "      <td>35.0</td>\n",
              "      <td>f</td>\n",
              "      <td>White-European</td>\n",
              "      <td>no</td>\n",
              "      <td>yes</td>\n",
              "      <td>'United States'</td>\n",
              "      <td>no</td>\n",
              "      <td>6</td>\n",
              "      <td>'18 and more'</td>\n",
              "      <td>Self</td>\n",
              "      <td>NO</td>\n",
              "    </tr>\n",
              "    <tr>\n",
              "      <th>4</th>\n",
              "      <td>1</td>\n",
              "      <td>0</td>\n",
              "      <td>0</td>\n",
              "      <td>0</td>\n",
              "      <td>0</td>\n",
              "      <td>0</td>\n",
              "      <td>0</td>\n",
              "      <td>1</td>\n",
              "      <td>0</td>\n",
              "      <td>0</td>\n",
              "      <td>40.0</td>\n",
              "      <td>f</td>\n",
              "      <td>NaN</td>\n",
              "      <td>no</td>\n",
              "      <td>no</td>\n",
              "      <td>Egypt</td>\n",
              "      <td>no</td>\n",
              "      <td>2</td>\n",
              "      <td>'18 and more'</td>\n",
              "      <td>NaN</td>\n",
              "      <td>NO</td>\n",
              "    </tr>\n",
              "  </tbody>\n",
              "</table>\n",
              "</div>"
            ],
            "text/plain": [
              "   A1_Score  A2_Score  A3_Score  ...       age_desc  relation  Class/ASD\n",
              "0         1         1         1  ...  '18 and more'      Self         NO\n",
              "1         1         1         0  ...  '18 and more'      Self         NO\n",
              "2         1         1         0  ...  '18 and more'    Parent        YES\n",
              "3         1         1         0  ...  '18 and more'      Self         NO\n",
              "4         1         0         0  ...  '18 and more'       NaN         NO\n",
              "\n",
              "[5 rows x 21 columns]"
            ]
          },
          "metadata": {},
          "execution_count": 5
        }
      ]
    },
    {
      "cell_type": "code",
      "metadata": {
        "colab": {
          "base_uri": "https://localhost:8080/",
          "height": 300
        },
        "id": "IN2W0o4xnmGy",
        "outputId": "00058241-2808-414c-a350-a1483e849b6f"
      },
      "source": [
        "asd_data.describe()"
      ],
      "execution_count": 6,
      "outputs": [
        {
          "output_type": "execute_result",
          "data": {
            "text/html": [
              "<div>\n",
              "<style scoped>\n",
              "    .dataframe tbody tr th:only-of-type {\n",
              "        vertical-align: middle;\n",
              "    }\n",
              "\n",
              "    .dataframe tbody tr th {\n",
              "        vertical-align: top;\n",
              "    }\n",
              "\n",
              "    .dataframe thead th {\n",
              "        text-align: right;\n",
              "    }\n",
              "</style>\n",
              "<table border=\"1\" class=\"dataframe\">\n",
              "  <thead>\n",
              "    <tr style=\"text-align: right;\">\n",
              "      <th></th>\n",
              "      <th>A1_Score</th>\n",
              "      <th>A2_Score</th>\n",
              "      <th>A3_Score</th>\n",
              "      <th>A4_Score</th>\n",
              "      <th>A5_Score</th>\n",
              "      <th>A6_Score</th>\n",
              "      <th>A7_Score</th>\n",
              "      <th>A8_Score</th>\n",
              "      <th>A9_Score</th>\n",
              "      <th>A10_Score</th>\n",
              "      <th>age</th>\n",
              "      <th>result</th>\n",
              "    </tr>\n",
              "  </thead>\n",
              "  <tbody>\n",
              "    <tr>\n",
              "      <th>count</th>\n",
              "      <td>704.000000</td>\n",
              "      <td>704.000000</td>\n",
              "      <td>704.000000</td>\n",
              "      <td>704.000000</td>\n",
              "      <td>704.000000</td>\n",
              "      <td>704.000000</td>\n",
              "      <td>704.000000</td>\n",
              "      <td>704.000000</td>\n",
              "      <td>704.000000</td>\n",
              "      <td>704.000000</td>\n",
              "      <td>702.000000</td>\n",
              "      <td>704.000000</td>\n",
              "    </tr>\n",
              "    <tr>\n",
              "      <th>mean</th>\n",
              "      <td>0.721591</td>\n",
              "      <td>0.453125</td>\n",
              "      <td>0.457386</td>\n",
              "      <td>0.495739</td>\n",
              "      <td>0.498580</td>\n",
              "      <td>0.284091</td>\n",
              "      <td>0.417614</td>\n",
              "      <td>0.649148</td>\n",
              "      <td>0.323864</td>\n",
              "      <td>0.573864</td>\n",
              "      <td>29.698006</td>\n",
              "      <td>4.875000</td>\n",
              "    </tr>\n",
              "    <tr>\n",
              "      <th>std</th>\n",
              "      <td>0.448535</td>\n",
              "      <td>0.498152</td>\n",
              "      <td>0.498535</td>\n",
              "      <td>0.500337</td>\n",
              "      <td>0.500353</td>\n",
              "      <td>0.451301</td>\n",
              "      <td>0.493516</td>\n",
              "      <td>0.477576</td>\n",
              "      <td>0.468281</td>\n",
              "      <td>0.494866</td>\n",
              "      <td>16.507465</td>\n",
              "      <td>2.501493</td>\n",
              "    </tr>\n",
              "    <tr>\n",
              "      <th>min</th>\n",
              "      <td>0.000000</td>\n",
              "      <td>0.000000</td>\n",
              "      <td>0.000000</td>\n",
              "      <td>0.000000</td>\n",
              "      <td>0.000000</td>\n",
              "      <td>0.000000</td>\n",
              "      <td>0.000000</td>\n",
              "      <td>0.000000</td>\n",
              "      <td>0.000000</td>\n",
              "      <td>0.000000</td>\n",
              "      <td>17.000000</td>\n",
              "      <td>0.000000</td>\n",
              "    </tr>\n",
              "    <tr>\n",
              "      <th>25%</th>\n",
              "      <td>0.000000</td>\n",
              "      <td>0.000000</td>\n",
              "      <td>0.000000</td>\n",
              "      <td>0.000000</td>\n",
              "      <td>0.000000</td>\n",
              "      <td>0.000000</td>\n",
              "      <td>0.000000</td>\n",
              "      <td>0.000000</td>\n",
              "      <td>0.000000</td>\n",
              "      <td>0.000000</td>\n",
              "      <td>21.000000</td>\n",
              "      <td>3.000000</td>\n",
              "    </tr>\n",
              "    <tr>\n",
              "      <th>50%</th>\n",
              "      <td>1.000000</td>\n",
              "      <td>0.000000</td>\n",
              "      <td>0.000000</td>\n",
              "      <td>0.000000</td>\n",
              "      <td>0.000000</td>\n",
              "      <td>0.000000</td>\n",
              "      <td>0.000000</td>\n",
              "      <td>1.000000</td>\n",
              "      <td>0.000000</td>\n",
              "      <td>1.000000</td>\n",
              "      <td>27.000000</td>\n",
              "      <td>4.000000</td>\n",
              "    </tr>\n",
              "    <tr>\n",
              "      <th>75%</th>\n",
              "      <td>1.000000</td>\n",
              "      <td>1.000000</td>\n",
              "      <td>1.000000</td>\n",
              "      <td>1.000000</td>\n",
              "      <td>1.000000</td>\n",
              "      <td>1.000000</td>\n",
              "      <td>1.000000</td>\n",
              "      <td>1.000000</td>\n",
              "      <td>1.000000</td>\n",
              "      <td>1.000000</td>\n",
              "      <td>35.000000</td>\n",
              "      <td>7.000000</td>\n",
              "    </tr>\n",
              "    <tr>\n",
              "      <th>max</th>\n",
              "      <td>1.000000</td>\n",
              "      <td>1.000000</td>\n",
              "      <td>1.000000</td>\n",
              "      <td>1.000000</td>\n",
              "      <td>1.000000</td>\n",
              "      <td>1.000000</td>\n",
              "      <td>1.000000</td>\n",
              "      <td>1.000000</td>\n",
              "      <td>1.000000</td>\n",
              "      <td>1.000000</td>\n",
              "      <td>383.000000</td>\n",
              "      <td>10.000000</td>\n",
              "    </tr>\n",
              "  </tbody>\n",
              "</table>\n",
              "</div>"
            ],
            "text/plain": [
              "         A1_Score    A2_Score    A3_Score  ...   A10_Score         age      result\n",
              "count  704.000000  704.000000  704.000000  ...  704.000000  702.000000  704.000000\n",
              "mean     0.721591    0.453125    0.457386  ...    0.573864   29.698006    4.875000\n",
              "std      0.448535    0.498152    0.498535  ...    0.494866   16.507465    2.501493\n",
              "min      0.000000    0.000000    0.000000  ...    0.000000   17.000000    0.000000\n",
              "25%      0.000000    0.000000    0.000000  ...    0.000000   21.000000    3.000000\n",
              "50%      1.000000    0.000000    0.000000  ...    1.000000   27.000000    4.000000\n",
              "75%      1.000000    1.000000    1.000000  ...    1.000000   35.000000    7.000000\n",
              "max      1.000000    1.000000    1.000000  ...    1.000000  383.000000   10.000000\n",
              "\n",
              "[8 rows x 12 columns]"
            ]
          },
          "metadata": {},
          "execution_count": 6
        }
      ]
    },
    {
      "cell_type": "markdown",
      "metadata": {
        "id": "vAfHwIBNnvuK"
      },
      "source": [
        "# Cleaning the Dataset"
      ]
    },
    {
      "cell_type": "code",
      "metadata": {
        "colab": {
          "base_uri": "https://localhost:8080/",
          "height": 634
        },
        "id": "8N7D65VwnqD1",
        "outputId": "41f8fa89-b4b0-4a5b-950a-abb8b446f4e5"
      },
      "source": [
        "asd_data.loc[(asd_data['age'].isnull()) |(asd_data['gender'].isnull()) |(asd_data['ethnicity'].isnull()) \n",
        "|(asd_data['jundice'].isnull())|(asd_data['autism'].isnull()) |(asd_data['country'].isnull())\n",
        "            |(asd_data['used_app_before'].isnull())|(asd_data['result'].isnull())|(asd_data['age_desc'].isnull())\n",
        "            |(asd_data['relation'].isnull())]"
      ],
      "execution_count": 7,
      "outputs": [
        {
          "output_type": "execute_result",
          "data": {
            "text/html": [
              "<div>\n",
              "<style scoped>\n",
              "    .dataframe tbody tr th:only-of-type {\n",
              "        vertical-align: middle;\n",
              "    }\n",
              "\n",
              "    .dataframe tbody tr th {\n",
              "        vertical-align: top;\n",
              "    }\n",
              "\n",
              "    .dataframe thead th {\n",
              "        text-align: right;\n",
              "    }\n",
              "</style>\n",
              "<table border=\"1\" class=\"dataframe\">\n",
              "  <thead>\n",
              "    <tr style=\"text-align: right;\">\n",
              "      <th></th>\n",
              "      <th>A1_Score</th>\n",
              "      <th>A2_Score</th>\n",
              "      <th>A3_Score</th>\n",
              "      <th>A4_Score</th>\n",
              "      <th>A5_Score</th>\n",
              "      <th>A6_Score</th>\n",
              "      <th>A7_Score</th>\n",
              "      <th>A8_Score</th>\n",
              "      <th>A9_Score</th>\n",
              "      <th>A10_Score</th>\n",
              "      <th>age</th>\n",
              "      <th>gender</th>\n",
              "      <th>ethnicity</th>\n",
              "      <th>jundice</th>\n",
              "      <th>autism</th>\n",
              "      <th>country</th>\n",
              "      <th>used_app_before</th>\n",
              "      <th>result</th>\n",
              "      <th>age_desc</th>\n",
              "      <th>relation</th>\n",
              "      <th>Class/ASD</th>\n",
              "    </tr>\n",
              "  </thead>\n",
              "  <tbody>\n",
              "    <tr>\n",
              "      <th>4</th>\n",
              "      <td>1</td>\n",
              "      <td>0</td>\n",
              "      <td>0</td>\n",
              "      <td>0</td>\n",
              "      <td>0</td>\n",
              "      <td>0</td>\n",
              "      <td>0</td>\n",
              "      <td>1</td>\n",
              "      <td>0</td>\n",
              "      <td>0</td>\n",
              "      <td>40.0</td>\n",
              "      <td>f</td>\n",
              "      <td>NaN</td>\n",
              "      <td>no</td>\n",
              "      <td>no</td>\n",
              "      <td>Egypt</td>\n",
              "      <td>no</td>\n",
              "      <td>2</td>\n",
              "      <td>'18 and more'</td>\n",
              "      <td>NaN</td>\n",
              "      <td>NO</td>\n",
              "    </tr>\n",
              "    <tr>\n",
              "      <th>12</th>\n",
              "      <td>0</td>\n",
              "      <td>1</td>\n",
              "      <td>1</td>\n",
              "      <td>1</td>\n",
              "      <td>1</td>\n",
              "      <td>1</td>\n",
              "      <td>0</td>\n",
              "      <td>0</td>\n",
              "      <td>1</td>\n",
              "      <td>0</td>\n",
              "      <td>17.0</td>\n",
              "      <td>f</td>\n",
              "      <td>NaN</td>\n",
              "      <td>no</td>\n",
              "      <td>no</td>\n",
              "      <td>Bahamas</td>\n",
              "      <td>no</td>\n",
              "      <td>6</td>\n",
              "      <td>'18 and more'</td>\n",
              "      <td>NaN</td>\n",
              "      <td>NO</td>\n",
              "    </tr>\n",
              "    <tr>\n",
              "      <th>13</th>\n",
              "      <td>1</td>\n",
              "      <td>0</td>\n",
              "      <td>0</td>\n",
              "      <td>0</td>\n",
              "      <td>0</td>\n",
              "      <td>0</td>\n",
              "      <td>1</td>\n",
              "      <td>1</td>\n",
              "      <td>0</td>\n",
              "      <td>1</td>\n",
              "      <td>17.0</td>\n",
              "      <td>m</td>\n",
              "      <td>NaN</td>\n",
              "      <td>no</td>\n",
              "      <td>no</td>\n",
              "      <td>Austria</td>\n",
              "      <td>no</td>\n",
              "      <td>4</td>\n",
              "      <td>'18 and more'</td>\n",
              "      <td>NaN</td>\n",
              "      <td>NO</td>\n",
              "    </tr>\n",
              "    <tr>\n",
              "      <th>14</th>\n",
              "      <td>1</td>\n",
              "      <td>0</td>\n",
              "      <td>0</td>\n",
              "      <td>0</td>\n",
              "      <td>0</td>\n",
              "      <td>0</td>\n",
              "      <td>1</td>\n",
              "      <td>1</td>\n",
              "      <td>0</td>\n",
              "      <td>1</td>\n",
              "      <td>17.0</td>\n",
              "      <td>f</td>\n",
              "      <td>NaN</td>\n",
              "      <td>no</td>\n",
              "      <td>no</td>\n",
              "      <td>Argentina</td>\n",
              "      <td>no</td>\n",
              "      <td>4</td>\n",
              "      <td>'18 and more'</td>\n",
              "      <td>NaN</td>\n",
              "      <td>NO</td>\n",
              "    </tr>\n",
              "    <tr>\n",
              "      <th>19</th>\n",
              "      <td>0</td>\n",
              "      <td>0</td>\n",
              "      <td>0</td>\n",
              "      <td>0</td>\n",
              "      <td>0</td>\n",
              "      <td>0</td>\n",
              "      <td>1</td>\n",
              "      <td>1</td>\n",
              "      <td>0</td>\n",
              "      <td>1</td>\n",
              "      <td>34.0</td>\n",
              "      <td>m</td>\n",
              "      <td>NaN</td>\n",
              "      <td>yes</td>\n",
              "      <td>no</td>\n",
              "      <td>'United Arab Emirates'</td>\n",
              "      <td>no</td>\n",
              "      <td>3</td>\n",
              "      <td>'18 and more'</td>\n",
              "      <td>NaN</td>\n",
              "      <td>NO</td>\n",
              "    </tr>\n",
              "    <tr>\n",
              "      <th>...</th>\n",
              "      <td>...</td>\n",
              "      <td>...</td>\n",
              "      <td>...</td>\n",
              "      <td>...</td>\n",
              "      <td>...</td>\n",
              "      <td>...</td>\n",
              "      <td>...</td>\n",
              "      <td>...</td>\n",
              "      <td>...</td>\n",
              "      <td>...</td>\n",
              "      <td>...</td>\n",
              "      <td>...</td>\n",
              "      <td>...</td>\n",
              "      <td>...</td>\n",
              "      <td>...</td>\n",
              "      <td>...</td>\n",
              "      <td>...</td>\n",
              "      <td>...</td>\n",
              "      <td>...</td>\n",
              "      <td>...</td>\n",
              "      <td>...</td>\n",
              "    </tr>\n",
              "    <tr>\n",
              "      <th>652</th>\n",
              "      <td>0</td>\n",
              "      <td>0</td>\n",
              "      <td>0</td>\n",
              "      <td>0</td>\n",
              "      <td>0</td>\n",
              "      <td>0</td>\n",
              "      <td>0</td>\n",
              "      <td>0</td>\n",
              "      <td>0</td>\n",
              "      <td>1</td>\n",
              "      <td>33.0</td>\n",
              "      <td>f</td>\n",
              "      <td>NaN</td>\n",
              "      <td>no</td>\n",
              "      <td>no</td>\n",
              "      <td>'United States'</td>\n",
              "      <td>no</td>\n",
              "      <td>1</td>\n",
              "      <td>'18 and more'</td>\n",
              "      <td>NaN</td>\n",
              "      <td>NO</td>\n",
              "    </tr>\n",
              "    <tr>\n",
              "      <th>658</th>\n",
              "      <td>0</td>\n",
              "      <td>0</td>\n",
              "      <td>1</td>\n",
              "      <td>1</td>\n",
              "      <td>0</td>\n",
              "      <td>0</td>\n",
              "      <td>1</td>\n",
              "      <td>0</td>\n",
              "      <td>0</td>\n",
              "      <td>0</td>\n",
              "      <td>43.0</td>\n",
              "      <td>m</td>\n",
              "      <td>NaN</td>\n",
              "      <td>no</td>\n",
              "      <td>no</td>\n",
              "      <td>Azerbaijan</td>\n",
              "      <td>no</td>\n",
              "      <td>3</td>\n",
              "      <td>'18 and more'</td>\n",
              "      <td>NaN</td>\n",
              "      <td>NO</td>\n",
              "    </tr>\n",
              "    <tr>\n",
              "      <th>659</th>\n",
              "      <td>1</td>\n",
              "      <td>1</td>\n",
              "      <td>1</td>\n",
              "      <td>1</td>\n",
              "      <td>1</td>\n",
              "      <td>1</td>\n",
              "      <td>0</td>\n",
              "      <td>0</td>\n",
              "      <td>1</td>\n",
              "      <td>1</td>\n",
              "      <td>44.0</td>\n",
              "      <td>m</td>\n",
              "      <td>NaN</td>\n",
              "      <td>no</td>\n",
              "      <td>no</td>\n",
              "      <td>Pakistan</td>\n",
              "      <td>no</td>\n",
              "      <td>8</td>\n",
              "      <td>'18 and more'</td>\n",
              "      <td>NaN</td>\n",
              "      <td>YES</td>\n",
              "    </tr>\n",
              "    <tr>\n",
              "      <th>666</th>\n",
              "      <td>0</td>\n",
              "      <td>0</td>\n",
              "      <td>0</td>\n",
              "      <td>0</td>\n",
              "      <td>0</td>\n",
              "      <td>0</td>\n",
              "      <td>0</td>\n",
              "      <td>1</td>\n",
              "      <td>0</td>\n",
              "      <td>0</td>\n",
              "      <td>56.0</td>\n",
              "      <td>m</td>\n",
              "      <td>NaN</td>\n",
              "      <td>no</td>\n",
              "      <td>no</td>\n",
              "      <td>Iraq</td>\n",
              "      <td>no</td>\n",
              "      <td>1</td>\n",
              "      <td>'18 and more'</td>\n",
              "      <td>NaN</td>\n",
              "      <td>NO</td>\n",
              "    </tr>\n",
              "    <tr>\n",
              "      <th>701</th>\n",
              "      <td>1</td>\n",
              "      <td>0</td>\n",
              "      <td>1</td>\n",
              "      <td>1</td>\n",
              "      <td>1</td>\n",
              "      <td>0</td>\n",
              "      <td>1</td>\n",
              "      <td>1</td>\n",
              "      <td>0</td>\n",
              "      <td>1</td>\n",
              "      <td>24.0</td>\n",
              "      <td>f</td>\n",
              "      <td>NaN</td>\n",
              "      <td>no</td>\n",
              "      <td>no</td>\n",
              "      <td>Russia</td>\n",
              "      <td>no</td>\n",
              "      <td>7</td>\n",
              "      <td>'18 and more'</td>\n",
              "      <td>NaN</td>\n",
              "      <td>YES</td>\n",
              "    </tr>\n",
              "  </tbody>\n",
              "</table>\n",
              "<p>95 rows × 21 columns</p>\n",
              "</div>"
            ],
            "text/plain": [
              "     A1_Score  A2_Score  A3_Score  ...       age_desc  relation  Class/ASD\n",
              "4           1         0         0  ...  '18 and more'       NaN         NO\n",
              "12          0         1         1  ...  '18 and more'       NaN         NO\n",
              "13          1         0         0  ...  '18 and more'       NaN         NO\n",
              "14          1         0         0  ...  '18 and more'       NaN         NO\n",
              "19          0         0         0  ...  '18 and more'       NaN         NO\n",
              "..        ...       ...       ...  ...            ...       ...        ...\n",
              "652         0         0         0  ...  '18 and more'       NaN         NO\n",
              "658         0         0         1  ...  '18 and more'       NaN         NO\n",
              "659         1         1         1  ...  '18 and more'       NaN        YES\n",
              "666         0         0         0  ...  '18 and more'       NaN         NO\n",
              "701         1         0         1  ...  '18 and more'       NaN        YES\n",
              "\n",
              "[95 rows x 21 columns]"
            ]
          },
          "metadata": {},
          "execution_count": 7
        }
      ]
    },
    {
      "cell_type": "markdown",
      "metadata": {
        "id": "mvyiXcg1oS2t"
      },
      "source": [
        "Since the missing data seems randomly distributed, I go ahead and drop rows with missing data."
      ]
    },
    {
      "cell_type": "code",
      "metadata": {
        "colab": {
          "base_uri": "https://localhost:8080/",
          "height": 300
        },
        "id": "GX-iJL2pn7Pq",
        "outputId": "12b711e8-10b7-4347-95e3-ea352f09decb"
      },
      "source": [
        "asd_data.dropna(inplace=True)\n",
        "asd_data.describe()"
      ],
      "execution_count": 8,
      "outputs": [
        {
          "output_type": "execute_result",
          "data": {
            "text/html": [
              "<div>\n",
              "<style scoped>\n",
              "    .dataframe tbody tr th:only-of-type {\n",
              "        vertical-align: middle;\n",
              "    }\n",
              "\n",
              "    .dataframe tbody tr th {\n",
              "        vertical-align: top;\n",
              "    }\n",
              "\n",
              "    .dataframe thead th {\n",
              "        text-align: right;\n",
              "    }\n",
              "</style>\n",
              "<table border=\"1\" class=\"dataframe\">\n",
              "  <thead>\n",
              "    <tr style=\"text-align: right;\">\n",
              "      <th></th>\n",
              "      <th>A1_Score</th>\n",
              "      <th>A2_Score</th>\n",
              "      <th>A3_Score</th>\n",
              "      <th>A4_Score</th>\n",
              "      <th>A5_Score</th>\n",
              "      <th>A6_Score</th>\n",
              "      <th>A7_Score</th>\n",
              "      <th>A8_Score</th>\n",
              "      <th>A9_Score</th>\n",
              "      <th>A10_Score</th>\n",
              "      <th>age</th>\n",
              "      <th>result</th>\n",
              "    </tr>\n",
              "  </thead>\n",
              "  <tbody>\n",
              "    <tr>\n",
              "      <th>count</th>\n",
              "      <td>609.000000</td>\n",
              "      <td>609.000000</td>\n",
              "      <td>609.000000</td>\n",
              "      <td>609.000000</td>\n",
              "      <td>609.000000</td>\n",
              "      <td>609.000000</td>\n",
              "      <td>609.000000</td>\n",
              "      <td>609.000000</td>\n",
              "      <td>609.000000</td>\n",
              "      <td>609.000000</td>\n",
              "      <td>609.000000</td>\n",
              "      <td>609.000000</td>\n",
              "    </tr>\n",
              "    <tr>\n",
              "      <th>mean</th>\n",
              "      <td>0.740558</td>\n",
              "      <td>0.469622</td>\n",
              "      <td>0.481117</td>\n",
              "      <td>0.520525</td>\n",
              "      <td>0.525452</td>\n",
              "      <td>0.307061</td>\n",
              "      <td>0.428571</td>\n",
              "      <td>0.665025</td>\n",
              "      <td>0.341544</td>\n",
              "      <td>0.597701</td>\n",
              "      <td>30.215107</td>\n",
              "      <td>5.077176</td>\n",
              "    </tr>\n",
              "    <tr>\n",
              "      <th>std</th>\n",
              "      <td>0.438689</td>\n",
              "      <td>0.499487</td>\n",
              "      <td>0.500054</td>\n",
              "      <td>0.499989</td>\n",
              "      <td>0.499762</td>\n",
              "      <td>0.461654</td>\n",
              "      <td>0.495278</td>\n",
              "      <td>0.472370</td>\n",
              "      <td>0.474617</td>\n",
              "      <td>0.490765</td>\n",
              "      <td>17.287470</td>\n",
              "      <td>2.522717</td>\n",
              "    </tr>\n",
              "    <tr>\n",
              "      <th>min</th>\n",
              "      <td>0.000000</td>\n",
              "      <td>0.000000</td>\n",
              "      <td>0.000000</td>\n",
              "      <td>0.000000</td>\n",
              "      <td>0.000000</td>\n",
              "      <td>0.000000</td>\n",
              "      <td>0.000000</td>\n",
              "      <td>0.000000</td>\n",
              "      <td>0.000000</td>\n",
              "      <td>0.000000</td>\n",
              "      <td>17.000000</td>\n",
              "      <td>0.000000</td>\n",
              "    </tr>\n",
              "    <tr>\n",
              "      <th>25%</th>\n",
              "      <td>0.000000</td>\n",
              "      <td>0.000000</td>\n",
              "      <td>0.000000</td>\n",
              "      <td>0.000000</td>\n",
              "      <td>0.000000</td>\n",
              "      <td>0.000000</td>\n",
              "      <td>0.000000</td>\n",
              "      <td>0.000000</td>\n",
              "      <td>0.000000</td>\n",
              "      <td>0.000000</td>\n",
              "      <td>22.000000</td>\n",
              "      <td>3.000000</td>\n",
              "    </tr>\n",
              "    <tr>\n",
              "      <th>50%</th>\n",
              "      <td>1.000000</td>\n",
              "      <td>0.000000</td>\n",
              "      <td>0.000000</td>\n",
              "      <td>1.000000</td>\n",
              "      <td>1.000000</td>\n",
              "      <td>0.000000</td>\n",
              "      <td>0.000000</td>\n",
              "      <td>1.000000</td>\n",
              "      <td>0.000000</td>\n",
              "      <td>1.000000</td>\n",
              "      <td>27.000000</td>\n",
              "      <td>5.000000</td>\n",
              "    </tr>\n",
              "    <tr>\n",
              "      <th>75%</th>\n",
              "      <td>1.000000</td>\n",
              "      <td>1.000000</td>\n",
              "      <td>1.000000</td>\n",
              "      <td>1.000000</td>\n",
              "      <td>1.000000</td>\n",
              "      <td>1.000000</td>\n",
              "      <td>1.000000</td>\n",
              "      <td>1.000000</td>\n",
              "      <td>1.000000</td>\n",
              "      <td>1.000000</td>\n",
              "      <td>35.000000</td>\n",
              "      <td>7.000000</td>\n",
              "    </tr>\n",
              "    <tr>\n",
              "      <th>max</th>\n",
              "      <td>1.000000</td>\n",
              "      <td>1.000000</td>\n",
              "      <td>1.000000</td>\n",
              "      <td>1.000000</td>\n",
              "      <td>1.000000</td>\n",
              "      <td>1.000000</td>\n",
              "      <td>1.000000</td>\n",
              "      <td>1.000000</td>\n",
              "      <td>1.000000</td>\n",
              "      <td>1.000000</td>\n",
              "      <td>383.000000</td>\n",
              "      <td>10.000000</td>\n",
              "    </tr>\n",
              "  </tbody>\n",
              "</table>\n",
              "</div>"
            ],
            "text/plain": [
              "         A1_Score    A2_Score    A3_Score  ...   A10_Score         age      result\n",
              "count  609.000000  609.000000  609.000000  ...  609.000000  609.000000  609.000000\n",
              "mean     0.740558    0.469622    0.481117  ...    0.597701   30.215107    5.077176\n",
              "std      0.438689    0.499487    0.500054  ...    0.490765   17.287470    2.522717\n",
              "min      0.000000    0.000000    0.000000  ...    0.000000   17.000000    0.000000\n",
              "25%      0.000000    0.000000    0.000000  ...    0.000000   22.000000    3.000000\n",
              "50%      1.000000    0.000000    0.000000  ...    1.000000   27.000000    5.000000\n",
              "75%      1.000000    1.000000    1.000000  ...    1.000000   35.000000    7.000000\n",
              "max      1.000000    1.000000    1.000000  ...    1.000000  383.000000   10.000000\n",
              "\n",
              "[8 rows x 12 columns]"
            ]
          },
          "metadata": {},
          "execution_count": 8
        }
      ]
    },
    {
      "cell_type": "code",
      "metadata": {
        "colab": {
          "base_uri": "https://localhost:8080/"
        },
        "id": "u7eu8cbAoyv4",
        "outputId": "1c7524d1-2cbd-4fd0-d1b5-a44066eb2b59"
      },
      "source": [
        "# Reminder of the features:\n",
        "print(asd_data.dtypes)"
      ],
      "execution_count": 9,
      "outputs": [
        {
          "output_type": "stream",
          "name": "stdout",
          "text": [
            "A1_Score             int64\n",
            "A2_Score             int64\n",
            "A3_Score             int64\n",
            "A4_Score             int64\n",
            "A5_Score             int64\n",
            "A6_Score             int64\n",
            "A7_Score             int64\n",
            "A8_Score             int64\n",
            "A9_Score             int64\n",
            "A10_Score            int64\n",
            "age                float64\n",
            "gender              object\n",
            "ethnicity           object\n",
            "jundice             object\n",
            "autism              object\n",
            "country             object\n",
            "used_app_before     object\n",
            "result               int64\n",
            "age_desc            object\n",
            "relation            object\n",
            "Class/ASD           object\n",
            "dtype: object\n"
          ]
        }
      ]
    },
    {
      "cell_type": "markdown",
      "metadata": {
        "id": "KAh4y37fofmu"
      },
      "source": [
        "\n",
        "If we could have fill with median values for 'NaN' instead of dropping them, but in this situation that is little complicated as I have lot of categorical colums with 'NaN "
      ]
    },
    {
      "cell_type": "markdown",
      "metadata": {
        "id": "FcFTnVqyo93q"
      },
      "source": [
        "# Visualization with Seaborn"
      ]
    },
    {
      "cell_type": "code",
      "metadata": {
        "id": "h-MfYvknoXi_"
      },
      "source": [
        "import seaborn as sns\n",
        "import matplotlib.pyplot as plt\n",
        "sns.set(style=\"whitegrid\", color_codes=True)"
      ],
      "execution_count": 10,
      "outputs": []
    },
    {
      "cell_type": "code",
      "metadata": {
        "colab": {
          "base_uri": "https://localhost:8080/",
          "height": 0
        },
        "id": "4uVuDznEpSvU",
        "outputId": "0356d457-7e63-4d3c-841f-81ef37f3f96a"
      },
      "source": [
        "# Draw a nested violinplot and split the violins for easier comparison\n",
        "sns.violinplot(x=\"jundice\", y=\"result\", hue=\"autism\", data=asd_data, split=True,\n",
        "                inner=\"quart\", palette={'yes': \"r\", 'no': \"b\"})\n",
        "sns.despine(left=True)"
      ],
      "execution_count": 11,
      "outputs": [
        {
          "output_type": "display_data",
          "data": {
            "image/png": "[encoded data removed]",
            "text/plain": [
              "<Figure size 432x288 with 1 Axes>"
            ]
          },
          "metadata": {}
        }
      ]
    },
    {
      "cell_type": "code",
      "metadata": {
        "colab": {
          "base_uri": "https://localhost:8080/",
          "height": 0
        },
        "id": "qScHHQF9pVv-",
        "outputId": "d202c4fc-4263-40de-b257-e6966666966c"
      },
      "source": [
        "# Draw a nested violinplot and split the violins for easier comparison\n",
        "sns.violinplot(x=\"jundice\", y=\"result\", hue=\"Class/ASD\", data=asd_data, split=True,\n",
        "                inner=\"quart\", palette={'YES': \"r\", 'NO': \"b\"})\n",
        "sns.despine(left=True)"
      ],
      "execution_count": 12,
      "outputs": [
        {
          "output_type": "display_data",
          "data": {
            "image/png": "[encoded data removed]",
            "text/plain": [
              "<Figure size 432x288 with 1 Axes>"
            ]
          },
          "metadata": {}
        }
      ]
    },
    {
      "cell_type": "code",
      "metadata": {
        "colab": {
          "base_uri": "https://localhost:8080/",
          "height": 0
        },
        "id": "5t8vcoTDpkre",
        "outputId": "cd143fe3-bf76-4393-f1a1-f7f380f042da"
      },
      "source": [
        "# Draw a nested violinplot and split the violins for easier comparison\n",
        "sns.violinplot(x=\"gender\", y=\"result\", hue=\"Class/ASD\", data=asd_data, split=True,\n",
        "                inner=\"quart\", palette={'YES': \"r\", 'NO': \"b\"})\n",
        "sns.despine(left=True)"
      ],
      "execution_count": 13,
      "outputs": [
        {
          "output_type": "display_data",
          "data": {
            "image/png": "[encoded data removed]",
            "text/plain": [
              "<Figure size 432x288 with 1 Axes>"
            ]
          },
          "metadata": {}
        }
      ]
    },
    {
      "cell_type": "code",
      "metadata": {
        "colab": {
          "base_uri": "https://localhost:8080/",
          "height": 0
        },
        "id": "7njg07SLpvKZ",
        "outputId": "fb893907-c4e3-4b9f-c2e8-24c47240810e"
      },
      "source": [
        "sns.catplot(x=\"gender\", y=\"result\", hue=\"Class/ASD\",\n",
        "               col=\"relation\", data=asd_data, kind=\"box\", height=4, aspect=.5, palette={'YES': \"r\", 'NO': \"b\"});"
      ],
      "execution_count": 14,
      "outputs": [
        {
          "output_type": "display_data",
          "data": {
            "image/png": "[encoded data removed]",
            "text/plain": [
              "<Figure size 789.8x288 with 5 Axes>"
            ]
          },
          "metadata": {}
        }
      ]
    },
    {
      "cell_type": "code",
      "metadata": {
        "colab": {
          "base_uri": "https://localhost:8080/",
          "height": 0
        },
        "id": "zw3kPV6Up4tM",
        "outputId": "690bb507-f790-4558-c7f3-06527d323942"
      },
      "source": [
        "g = sns.catplot(x=\"result\", y=\"jundice\",\n",
        "                   hue=\"gender\", row=\"relation\",\n",
        "                   data=asd_data,\n",
        "                    orient=\"h\", height=2, aspect=3.5, palette={'f': \"r\", 'm': \"b\"},\n",
        "                  kind=\"violin\", dodge=True, cut=0, bw=.2)"
      ],
      "execution_count": 15,
      "outputs": [
        {
          "output_type": "display_data",
          "data": {
            "image/png": "[encoded data removed]",
            "text/plain": [
              "<Figure size 555.425x720 with 5 Axes>"
            ]
          },
          "metadata": {}
        }
      ]
    },
    {
      "cell_type": "markdown",
      "metadata": {
        "id": "bFj4gMOHqGv1"
      },
      "source": [
        "\n",
        "In the two figures above, I have used two different depiction techniques to have a quick peek on the ASD dataset we are dealing with. Both of the occasions I have used factorplot module from seaborn visualization software. In the first case, I used 'swamp' kind of graph expressing the relationship between several different features present in the data whereas in the second case, 'box' method was used to present the visual way of showing how different features were associated with each other.\n",
        "\n",
        "Next I'll need to convert the Pandas dataframes into numpy arrays that can be used by scikit_learn. Let's create an array that extracts only the feature data we want to work with and another array that contains the classes (class/ASD)."
      ]
    },
    {
      "cell_type": "code",
      "metadata": {
        "id": "x2RjWLGfp_Ie"
      },
      "source": [
        "# Split the data into features and target label\n",
        "asd_raw = asd_data['Class/ASD']\n",
        "features_raw = asd_data[['age', 'gender', 'ethnicity', 'jundice', 'autism', 'country', 'result',\n",
        "                      'relation','A1_Score','A2_Score','A3_Score','A4_Score','A5_Score','A6_Score','A7_Score','A8_Score',\n",
        "                      'A9_Score','A10_Score']]"
      ],
      "execution_count": 16,
      "outputs": []
    },
    {
      "cell_type": "markdown",
      "metadata": {
        "id": "kaOls7ffqfNw"
      },
      "source": [
        "Some of our models require the input data to be normalized, so I proceed to normalize the attribute data. Here, I use preprocessing.MinMaxScaler()."
      ]
    },
    {
      "cell_type": "code",
      "metadata": {
        "colab": {
          "base_uri": "https://localhost:8080/",
          "height": 0
        },
        "id": "rSfM5fH8qThv",
        "outputId": "a21ad730-62d0-472e-cb14-ce17acb245fa"
      },
      "source": [
        "from sklearn.preprocessing import MinMaxScaler\n",
        "\n",
        "scaler = MinMaxScaler()\n",
        "numerical = ['age', 'result']\n",
        "\n",
        "features_minmax_transform = pd.DataFrame(data = features_raw)\n",
        "features_minmax_transform[numerical] = scaler.fit_transform(features_raw[numerical])\n",
        "features_minmax_transform\n",
        "# Show an example of a record with scaling applied\n",
        "display(features_minmax_transform.head(n = 5))"
      ],
      "execution_count": 17,
      "outputs": [
        {
          "output_type": "display_data",
          "data": {
            "text/html": [
              "<div>\n",
              "<style scoped>\n",
              "    .dataframe tbody tr th:only-of-type {\n",
              "        vertical-align: middle;\n",
              "    }\n",
              "\n",
              "    .dataframe tbody tr th {\n",
              "        vertical-align: top;\n",
              "    }\n",
              "\n",
              "    .dataframe thead th {\n",
              "        text-align: right;\n",
              "    }\n",
              "</style>\n",
              "<table border=\"1\" class=\"dataframe\">\n",
              "  <thead>\n",
              "    <tr style=\"text-align: right;\">\n",
              "      <th></th>\n",
              "      <th>age</th>\n",
              "      <th>gender</th>\n",
              "      <th>ethnicity</th>\n",
              "      <th>jundice</th>\n",
              "      <th>autism</th>\n",
              "      <th>country</th>\n",
              "      <th>result</th>\n",
              "      <th>relation</th>\n",
              "      <th>A1_Score</th>\n",
              "      <th>A2_Score</th>\n",
              "      <th>A3_Score</th>\n",
              "      <th>A4_Score</th>\n",
              "      <th>A5_Score</th>\n",
              "      <th>A6_Score</th>\n",
              "      <th>A7_Score</th>\n",
              "      <th>A8_Score</th>\n",
              "      <th>A9_Score</th>\n",
              "      <th>A10_Score</th>\n",
              "    </tr>\n",
              "  </thead>\n",
              "  <tbody>\n",
              "    <tr>\n",
              "      <th>0</th>\n",
              "      <td>0.024590</td>\n",
              "      <td>f</td>\n",
              "      <td>White-European</td>\n",
              "      <td>no</td>\n",
              "      <td>no</td>\n",
              "      <td>'United States'</td>\n",
              "      <td>0.6</td>\n",
              "      <td>Self</td>\n",
              "      <td>1</td>\n",
              "      <td>1</td>\n",
              "      <td>1</td>\n",
              "      <td>1</td>\n",
              "      <td>0</td>\n",
              "      <td>0</td>\n",
              "      <td>1</td>\n",
              "      <td>1</td>\n",
              "      <td>0</td>\n",
              "      <td>0</td>\n",
              "    </tr>\n",
              "    <tr>\n",
              "      <th>1</th>\n",
              "      <td>0.019126</td>\n",
              "      <td>m</td>\n",
              "      <td>Latino</td>\n",
              "      <td>no</td>\n",
              "      <td>yes</td>\n",
              "      <td>Brazil</td>\n",
              "      <td>0.5</td>\n",
              "      <td>Self</td>\n",
              "      <td>1</td>\n",
              "      <td>1</td>\n",
              "      <td>0</td>\n",
              "      <td>1</td>\n",
              "      <td>0</td>\n",
              "      <td>0</td>\n",
              "      <td>0</td>\n",
              "      <td>1</td>\n",
              "      <td>0</td>\n",
              "      <td>1</td>\n",
              "    </tr>\n",
              "    <tr>\n",
              "      <th>2</th>\n",
              "      <td>0.027322</td>\n",
              "      <td>m</td>\n",
              "      <td>Latino</td>\n",
              "      <td>yes</td>\n",
              "      <td>yes</td>\n",
              "      <td>Spain</td>\n",
              "      <td>0.8</td>\n",
              "      <td>Parent</td>\n",
              "      <td>1</td>\n",
              "      <td>1</td>\n",
              "      <td>0</td>\n",
              "      <td>1</td>\n",
              "      <td>1</td>\n",
              "      <td>0</td>\n",
              "      <td>1</td>\n",
              "      <td>1</td>\n",
              "      <td>1</td>\n",
              "      <td>1</td>\n",
              "    </tr>\n",
              "    <tr>\n",
              "      <th>3</th>\n",
              "      <td>0.049180</td>\n",
              "      <td>f</td>\n",
              "      <td>White-European</td>\n",
              "      <td>no</td>\n",
              "      <td>yes</td>\n",
              "      <td>'United States'</td>\n",
              "      <td>0.6</td>\n",
              "      <td>Self</td>\n",
              "      <td>1</td>\n",
              "      <td>1</td>\n",
              "      <td>0</td>\n",
              "      <td>1</td>\n",
              "      <td>0</td>\n",
              "      <td>0</td>\n",
              "      <td>1</td>\n",
              "      <td>1</td>\n",
              "      <td>0</td>\n",
              "      <td>1</td>\n",
              "    </tr>\n",
              "    <tr>\n",
              "      <th>5</th>\n",
              "      <td>0.051913</td>\n",
              "      <td>m</td>\n",
              "      <td>Others</td>\n",
              "      <td>yes</td>\n",
              "      <td>no</td>\n",
              "      <td>'United States'</td>\n",
              "      <td>0.9</td>\n",
              "      <td>Self</td>\n",
              "      <td>1</td>\n",
              "      <td>1</td>\n",
              "      <td>1</td>\n",
              "      <td>1</td>\n",
              "      <td>1</td>\n",
              "      <td>0</td>\n",
              "      <td>1</td>\n",
              "      <td>1</td>\n",
              "      <td>1</td>\n",
              "      <td>1</td>\n",
              "    </tr>\n",
              "  </tbody>\n",
              "</table>\n",
              "</div>"
            ],
            "text/plain": [
              "        age gender       ethnicity  ... A8_Score A9_Score A10_Score\n",
              "0  0.024590      f  White-European  ...        1        0         0\n",
              "1  0.019126      m          Latino  ...        1        0         1\n",
              "2  0.027322      m          Latino  ...        1        1         1\n",
              "3  0.049180      f  White-European  ...        1        0         1\n",
              "5  0.051913      m          Others  ...        1        1         1\n",
              "\n",
              "[5 rows x 18 columns]"
            ]
          },
          "metadata": {}
        }
      ]
    },
    {
      "cell_type": "markdown",
      "metadata": {
        "id": "bSNEj1ziq7r5"
      },
      "source": [
        "# One hot encoding"
      ]
    },
    {
      "cell_type": "markdown",
      "metadata": {
        "id": "jf77AnpIqvSw"
      },
      "source": [
        "From the table in Clean Data Sets above, we can see there are several features for each record that are non-numeric such as Country_of_residence, ethnicity etc. Typically, learning algorithms expect input to be numeric, which requires that non-numeric features (called categorical variables) be converted. One popular way to convert categorical variables is by using the one-hot encoding scheme. One-hot encoding creates a \"dummy\" variable for each possible category of each non-numeric feature. For example, assume someFeature has three possible entries: A, B, or C. We then encode this feature into someFeature_A, someFeature_B and someFeature_C."
      ]
    },
    {
      "cell_type": "markdown",
      "metadata": {
        "id": "3S-qf6v4rFKE"
      },
      "source": [
        "Additionally, as with the non-numeric features, I need to convert the non-numeric target label, 'Class/ASD' to numerical values for the learning algorithm to work. Since there are only two possible categories for this label (\"YES\" and \"NO\" to Class/ASD), I can avoid using one-hot encoding and simply encode these two categories as 0 and 1, respectively. In code cell below, I will implement the following:\n",
        "\n",
        "Use pandas.get_dummies() to perform one-hot encoding on the 'features_minmax_transform' data.\n",
        "Convert the target label 'asd_raw' to numerical entries.\n",
        "Set records with \"NO\" to 0 and records with \"YES\" to 1."
      ]
    },
    {
      "cell_type": "code",
      "metadata": {
        "colab": {
          "base_uri": "https://localhost:8080/",
          "height": 0
        },
        "id": "InmeBKoDqlqS",
        "outputId": "8f245a24-3d8f-4f85-a0ac-65567d859441"
      },
      "source": [
        "#One-hot encode the 'features_minmax_transform' data using pandas.get_dummies()\n",
        "features_final = pd.get_dummies(features_minmax_transform)\n",
        "display(features_final.head(5))\n",
        "\n",
        "\n",
        "# Encode the 'all_classes_raw' data to numerical values\n",
        "asd_classes = asd_raw.apply(lambda x: 1 if x == 'YES' else 0)\n",
        "\n",
        "\n",
        "\n",
        "# Print the number of features after one-hot encoding\n",
        "encoded = list(features_final.columns)\n",
        "print (\"{} total features after one-hot encoding.\".format(len(encoded)))\n",
        "\n",
        "# Uncomment the following line to see the encoded feature names\n",
        "print (encoded)"
      ],
      "execution_count": 18,
      "outputs": [
        {
          "output_type": "display_data",
          "data": {
            "text/html": [
              "<div>\n",
              "<style scoped>\n",
              "    .dataframe tbody tr th:only-of-type {\n",
              "        vertical-align: middle;\n",
              "    }\n",
              "\n",
              "    .dataframe tbody tr th {\n",
              "        vertical-align: top;\n",
              "    }\n",
              "\n",
              "    .dataframe thead th {\n",
              "        text-align: right;\n",
              "    }\n",
              "</style>\n",
              "<table border=\"1\" class=\"dataframe\">\n",
              "  <thead>\n",
              "    <tr style=\"text-align: right;\">\n",
              "      <th></th>\n",
              "      <th>age</th>\n",
              "      <th>result</th>\n",
              "      <th>A1_Score</th>\n",
              "      <th>A2_Score</th>\n",
              "      <th>A3_Score</th>\n",
              "      <th>A4_Score</th>\n",
              "      <th>A5_Score</th>\n",
              "      <th>A6_Score</th>\n",
              "      <th>A7_Score</th>\n",
              "      <th>A8_Score</th>\n",
              "      <th>A9_Score</th>\n",
              "      <th>A10_Score</th>\n",
              "      <th>gender_f</th>\n",
              "      <th>gender_m</th>\n",
              "      <th>ethnicity_'Middle Eastern '</th>\n",
              "      <th>ethnicity_'South Asian'</th>\n",
              "      <th>ethnicity_Asian</th>\n",
              "      <th>ethnicity_Black</th>\n",
              "      <th>ethnicity_Hispanic</th>\n",
              "      <th>ethnicity_Latino</th>\n",
              "      <th>ethnicity_Others</th>\n",
              "      <th>ethnicity_Pasifika</th>\n",
              "      <th>ethnicity_Turkish</th>\n",
              "      <th>ethnicity_White-European</th>\n",
              "      <th>ethnicity_others</th>\n",
              "      <th>jundice_no</th>\n",
              "      <th>jundice_yes</th>\n",
              "      <th>autism_no</th>\n",
              "      <th>autism_yes</th>\n",
              "      <th>country_'Costa Rica'</th>\n",
              "      <th>country_'Czech Republic'</th>\n",
              "      <th>country_'New Zealand'</th>\n",
              "      <th>country_'Saudi Arabia'</th>\n",
              "      <th>country_'Sierra Leone'</th>\n",
              "      <th>country_'South Africa'</th>\n",
              "      <th>country_'Sri Lanka'</th>\n",
              "      <th>country_'United Arab Emirates'</th>\n",
              "      <th>country_'United Kingdom'</th>\n",
              "      <th>country_'United States'</th>\n",
              "      <th>country_'Viet Nam'</th>\n",
              "      <th>...</th>\n",
              "      <th>country_Chile</th>\n",
              "      <th>country_China</th>\n",
              "      <th>country_Cyprus</th>\n",
              "      <th>country_Ecuador</th>\n",
              "      <th>country_Egypt</th>\n",
              "      <th>country_Ethiopia</th>\n",
              "      <th>country_Finland</th>\n",
              "      <th>country_France</th>\n",
              "      <th>country_Germany</th>\n",
              "      <th>country_Iceland</th>\n",
              "      <th>country_India</th>\n",
              "      <th>country_Indonesia</th>\n",
              "      <th>country_Iran</th>\n",
              "      <th>country_Ireland</th>\n",
              "      <th>country_Italy</th>\n",
              "      <th>country_Jordan</th>\n",
              "      <th>country_Malaysia</th>\n",
              "      <th>country_Mexico</th>\n",
              "      <th>country_Nepal</th>\n",
              "      <th>country_Netherlands</th>\n",
              "      <th>country_Nicaragua</th>\n",
              "      <th>country_Niger</th>\n",
              "      <th>country_Oman</th>\n",
              "      <th>country_Pakistan</th>\n",
              "      <th>country_Philippines</th>\n",
              "      <th>country_Portugal</th>\n",
              "      <th>country_Romania</th>\n",
              "      <th>country_Russia</th>\n",
              "      <th>country_Serbia</th>\n",
              "      <th>country_Spain</th>\n",
              "      <th>country_Sweden</th>\n",
              "      <th>country_Tonga</th>\n",
              "      <th>country_Turkey</th>\n",
              "      <th>country_Ukraine</th>\n",
              "      <th>country_Uruguay</th>\n",
              "      <th>relation_'Health care professional'</th>\n",
              "      <th>relation_Others</th>\n",
              "      <th>relation_Parent</th>\n",
              "      <th>relation_Relative</th>\n",
              "      <th>relation_Self</th>\n",
              "    </tr>\n",
              "  </thead>\n",
              "  <tbody>\n",
              "    <tr>\n",
              "      <th>0</th>\n",
              "      <td>0.024590</td>\n",
              "      <td>0.6</td>\n",
              "      <td>1</td>\n",
              "      <td>1</td>\n",
              "      <td>1</td>\n",
              "      <td>1</td>\n",
              "      <td>0</td>\n",
              "      <td>0</td>\n",
              "      <td>1</td>\n",
              "      <td>1</td>\n",
              "      <td>0</td>\n",
              "      <td>0</td>\n",
              "      <td>1</td>\n",
              "      <td>0</td>\n",
              "      <td>0</td>\n",
              "      <td>0</td>\n",
              "      <td>0</td>\n",
              "      <td>0</td>\n",
              "      <td>0</td>\n",
              "      <td>0</td>\n",
              "      <td>0</td>\n",
              "      <td>0</td>\n",
              "      <td>0</td>\n",
              "      <td>1</td>\n",
              "      <td>0</td>\n",
              "      <td>1</td>\n",
              "      <td>0</td>\n",
              "      <td>1</td>\n",
              "      <td>0</td>\n",
              "      <td>0</td>\n",
              "      <td>0</td>\n",
              "      <td>0</td>\n",
              "      <td>0</td>\n",
              "      <td>0</td>\n",
              "      <td>0</td>\n",
              "      <td>0</td>\n",
              "      <td>0</td>\n",
              "      <td>0</td>\n",
              "      <td>1</td>\n",
              "      <td>0</td>\n",
              "      <td>...</td>\n",
              "      <td>0</td>\n",
              "      <td>0</td>\n",
              "      <td>0</td>\n",
              "      <td>0</td>\n",
              "      <td>0</td>\n",
              "      <td>0</td>\n",
              "      <td>0</td>\n",
              "      <td>0</td>\n",
              "      <td>0</td>\n",
              "      <td>0</td>\n",
              "      <td>0</td>\n",
              "      <td>0</td>\n",
              "      <td>0</td>\n",
              "      <td>0</td>\n",
              "      <td>0</td>\n",
              "      <td>0</td>\n",
              "      <td>0</td>\n",
              "      <td>0</td>\n",
              "      <td>0</td>\n",
              "      <td>0</td>\n",
              "      <td>0</td>\n",
              "      <td>0</td>\n",
              "      <td>0</td>\n",
              "      <td>0</td>\n",
              "      <td>0</td>\n",
              "      <td>0</td>\n",
              "      <td>0</td>\n",
              "      <td>0</td>\n",
              "      <td>0</td>\n",
              "      <td>0</td>\n",
              "      <td>0</td>\n",
              "      <td>0</td>\n",
              "      <td>0</td>\n",
              "      <td>0</td>\n",
              "      <td>0</td>\n",
              "      <td>0</td>\n",
              "      <td>0</td>\n",
              "      <td>0</td>\n",
              "      <td>0</td>\n",
              "      <td>1</td>\n",
              "    </tr>\n",
              "    <tr>\n",
              "      <th>1</th>\n",
              "      <td>0.019126</td>\n",
              "      <td>0.5</td>\n",
              "      <td>1</td>\n",
              "      <td>1</td>\n",
              "      <td>0</td>\n",
              "      <td>1</td>\n",
              "      <td>0</td>\n",
              "      <td>0</td>\n",
              "      <td>0</td>\n",
              "      <td>1</td>\n",
              "      <td>0</td>\n",
              "      <td>1</td>\n",
              "      <td>0</td>\n",
              "      <td>1</td>\n",
              "      <td>0</td>\n",
              "      <td>0</td>\n",
              "      <td>0</td>\n",
              "      <td>0</td>\n",
              "      <td>0</td>\n",
              "      <td>1</td>\n",
              "      <td>0</td>\n",
              "      <td>0</td>\n",
              "      <td>0</td>\n",
              "      <td>0</td>\n",
              "      <td>0</td>\n",
              "      <td>1</td>\n",
              "      <td>0</td>\n",
              "      <td>0</td>\n",
              "      <td>1</td>\n",
              "      <td>0</td>\n",
              "      <td>0</td>\n",
              "      <td>0</td>\n",
              "      <td>0</td>\n",
              "      <td>0</td>\n",
              "      <td>0</td>\n",
              "      <td>0</td>\n",
              "      <td>0</td>\n",
              "      <td>0</td>\n",
              "      <td>0</td>\n",
              "      <td>0</td>\n",
              "      <td>...</td>\n",
              "      <td>0</td>\n",
              "      <td>0</td>\n",
              "      <td>0</td>\n",
              "      <td>0</td>\n",
              "      <td>0</td>\n",
              "      <td>0</td>\n",
              "      <td>0</td>\n",
              "      <td>0</td>\n",
              "      <td>0</td>\n",
              "      <td>0</td>\n",
              "      <td>0</td>\n",
              "      <td>0</td>\n",
              "      <td>0</td>\n",
              "      <td>0</td>\n",
              "      <td>0</td>\n",
              "      <td>0</td>\n",
              "      <td>0</td>\n",
              "      <td>0</td>\n",
              "      <td>0</td>\n",
              "      <td>0</td>\n",
              "      <td>0</td>\n",
              "      <td>0</td>\n",
              "      <td>0</td>\n",
              "      <td>0</td>\n",
              "      <td>0</td>\n",
              "      <td>0</td>\n",
              "      <td>0</td>\n",
              "      <td>0</td>\n",
              "      <td>0</td>\n",
              "      <td>0</td>\n",
              "      <td>0</td>\n",
              "      <td>0</td>\n",
              "      <td>0</td>\n",
              "      <td>0</td>\n",
              "      <td>0</td>\n",
              "      <td>0</td>\n",
              "      <td>0</td>\n",
              "      <td>0</td>\n",
              "      <td>0</td>\n",
              "      <td>1</td>\n",
              "    </tr>\n",
              "    <tr>\n",
              "      <th>2</th>\n",
              "      <td>0.027322</td>\n",
              "      <td>0.8</td>\n",
              "      <td>1</td>\n",
              "      <td>1</td>\n",
              "      <td>0</td>\n",
              "      <td>1</td>\n",
              "      <td>1</td>\n",
              "      <td>0</td>\n",
              "      <td>1</td>\n",
              "      <td>1</td>\n",
              "      <td>1</td>\n",
              "      <td>1</td>\n",
              "      <td>0</td>\n",
              "      <td>1</td>\n",
              "      <td>0</td>\n",
              "      <td>0</td>\n",
              "      <td>0</td>\n",
              "      <td>0</td>\n",
              "      <td>0</td>\n",
              "      <td>1</td>\n",
              "      <td>0</td>\n",
              "      <td>0</td>\n",
              "      <td>0</td>\n",
              "      <td>0</td>\n",
              "      <td>0</td>\n",
              "      <td>0</td>\n",
              "      <td>1</td>\n",
              "      <td>0</td>\n",
              "      <td>1</td>\n",
              "      <td>0</td>\n",
              "      <td>0</td>\n",
              "      <td>0</td>\n",
              "      <td>0</td>\n",
              "      <td>0</td>\n",
              "      <td>0</td>\n",
              "      <td>0</td>\n",
              "      <td>0</td>\n",
              "      <td>0</td>\n",
              "      <td>0</td>\n",
              "      <td>0</td>\n",
              "      <td>...</td>\n",
              "      <td>0</td>\n",
              "      <td>0</td>\n",
              "      <td>0</td>\n",
              "      <td>0</td>\n",
              "      <td>0</td>\n",
              "      <td>0</td>\n",
              "      <td>0</td>\n",
              "      <td>0</td>\n",
              "      <td>0</td>\n",
              "      <td>0</td>\n",
              "      <td>0</td>\n",
              "      <td>0</td>\n",
              "      <td>0</td>\n",
              "      <td>0</td>\n",
              "      <td>0</td>\n",
              "      <td>0</td>\n",
              "      <td>0</td>\n",
              "      <td>0</td>\n",
              "      <td>0</td>\n",
              "      <td>0</td>\n",
              "      <td>0</td>\n",
              "      <td>0</td>\n",
              "      <td>0</td>\n",
              "      <td>0</td>\n",
              "      <td>0</td>\n",
              "      <td>0</td>\n",
              "      <td>0</td>\n",
              "      <td>0</td>\n",
              "      <td>0</td>\n",
              "      <td>1</td>\n",
              "      <td>0</td>\n",
              "      <td>0</td>\n",
              "      <td>0</td>\n",
              "      <td>0</td>\n",
              "      <td>0</td>\n",
              "      <td>0</td>\n",
              "      <td>0</td>\n",
              "      <td>1</td>\n",
              "      <td>0</td>\n",
              "      <td>0</td>\n",
              "    </tr>\n",
              "    <tr>\n",
              "      <th>3</th>\n",
              "      <td>0.049180</td>\n",
              "      <td>0.6</td>\n",
              "      <td>1</td>\n",
              "      <td>1</td>\n",
              "      <td>0</td>\n",
              "      <td>1</td>\n",
              "      <td>0</td>\n",
              "      <td>0</td>\n",
              "      <td>1</td>\n",
              "      <td>1</td>\n",
              "      <td>0</td>\n",
              "      <td>1</td>\n",
              "      <td>1</td>\n",
              "      <td>0</td>\n",
              "      <td>0</td>\n",
              "      <td>0</td>\n",
              "      <td>0</td>\n",
              "      <td>0</td>\n",
              "      <td>0</td>\n",
              "      <td>0</td>\n",
              "      <td>0</td>\n",
              "      <td>0</td>\n",
              "      <td>0</td>\n",
              "      <td>1</td>\n",
              "      <td>0</td>\n",
              "      <td>1</td>\n",
              "      <td>0</td>\n",
              "      <td>0</td>\n",
              "      <td>1</td>\n",
              "      <td>0</td>\n",
              "      <td>0</td>\n",
              "      <td>0</td>\n",
              "      <td>0</td>\n",
              "      <td>0</td>\n",
              "      <td>0</td>\n",
              "      <td>0</td>\n",
              "      <td>0</td>\n",
              "      <td>0</td>\n",
              "      <td>1</td>\n",
              "      <td>0</td>\n",
              "      <td>...</td>\n",
              "      <td>0</td>\n",
              "      <td>0</td>\n",
              "      <td>0</td>\n",
              "      <td>0</td>\n",
              "      <td>0</td>\n",
              "      <td>0</td>\n",
              "      <td>0</td>\n",
              "      <td>0</td>\n",
              "      <td>0</td>\n",
              "      <td>0</td>\n",
              "      <td>0</td>\n",
              "      <td>0</td>\n",
              "      <td>0</td>\n",
              "      <td>0</td>\n",
              "      <td>0</td>\n",
              "      <td>0</td>\n",
              "      <td>0</td>\n",
              "      <td>0</td>\n",
              "      <td>0</td>\n",
              "      <td>0</td>\n",
              "      <td>0</td>\n",
              "      <td>0</td>\n",
              "      <td>0</td>\n",
              "      <td>0</td>\n",
              "      <td>0</td>\n",
              "      <td>0</td>\n",
              "      <td>0</td>\n",
              "      <td>0</td>\n",
              "      <td>0</td>\n",
              "      <td>0</td>\n",
              "      <td>0</td>\n",
              "      <td>0</td>\n",
              "      <td>0</td>\n",
              "      <td>0</td>\n",
              "      <td>0</td>\n",
              "      <td>0</td>\n",
              "      <td>0</td>\n",
              "      <td>0</td>\n",
              "      <td>0</td>\n",
              "      <td>1</td>\n",
              "    </tr>\n",
              "    <tr>\n",
              "      <th>5</th>\n",
              "      <td>0.051913</td>\n",
              "      <td>0.9</td>\n",
              "      <td>1</td>\n",
              "      <td>1</td>\n",
              "      <td>1</td>\n",
              "      <td>1</td>\n",
              "      <td>1</td>\n",
              "      <td>0</td>\n",
              "      <td>1</td>\n",
              "      <td>1</td>\n",
              "      <td>1</td>\n",
              "      <td>1</td>\n",
              "      <td>0</td>\n",
              "      <td>1</td>\n",
              "      <td>0</td>\n",
              "      <td>0</td>\n",
              "      <td>0</td>\n",
              "      <td>0</td>\n",
              "      <td>0</td>\n",
              "      <td>0</td>\n",
              "      <td>1</td>\n",
              "      <td>0</td>\n",
              "      <td>0</td>\n",
              "      <td>0</td>\n",
              "      <td>0</td>\n",
              "      <td>0</td>\n",
              "      <td>1</td>\n",
              "      <td>1</td>\n",
              "      <td>0</td>\n",
              "      <td>0</td>\n",
              "      <td>0</td>\n",
              "      <td>0</td>\n",
              "      <td>0</td>\n",
              "      <td>0</td>\n",
              "      <td>0</td>\n",
              "      <td>0</td>\n",
              "      <td>0</td>\n",
              "      <td>0</td>\n",
              "      <td>1</td>\n",
              "      <td>0</td>\n",
              "      <td>...</td>\n",
              "      <td>0</td>\n",
              "      <td>0</td>\n",
              "      <td>0</td>\n",
              "      <td>0</td>\n",
              "      <td>0</td>\n",
              "      <td>0</td>\n",
              "      <td>0</td>\n",
              "      <td>0</td>\n",
              "      <td>0</td>\n",
              "      <td>0</td>\n",
              "      <td>0</td>\n",
              "      <td>0</td>\n",
              "      <td>0</td>\n",
              "      <td>0</td>\n",
              "      <td>0</td>\n",
              "      <td>0</td>\n",
              "      <td>0</td>\n",
              "      <td>0</td>\n",
              "      <td>0</td>\n",
              "      <td>0</td>\n",
              "      <td>0</td>\n",
              "      <td>0</td>\n",
              "      <td>0</td>\n",
              "      <td>0</td>\n",
              "      <td>0</td>\n",
              "      <td>0</td>\n",
              "      <td>0</td>\n",
              "      <td>0</td>\n",
              "      <td>0</td>\n",
              "      <td>0</td>\n",
              "      <td>0</td>\n",
              "      <td>0</td>\n",
              "      <td>0</td>\n",
              "      <td>0</td>\n",
              "      <td>0</td>\n",
              "      <td>0</td>\n",
              "      <td>0</td>\n",
              "      <td>0</td>\n",
              "      <td>0</td>\n",
              "      <td>1</td>\n",
              "    </tr>\n",
              "  </tbody>\n",
              "</table>\n",
              "<p>5 rows × 94 columns</p>\n",
              "</div>"
            ],
            "text/plain": [
              "        age  result  ...  relation_Relative  relation_Self\n",
              "0  0.024590     0.6  ...                  0              1\n",
              "1  0.019126     0.5  ...                  0              1\n",
              "2  0.027322     0.8  ...                  0              0\n",
              "3  0.049180     0.6  ...                  0              1\n",
              "5  0.051913     0.9  ...                  0              1\n",
              "\n",
              "[5 rows x 94 columns]"
            ]
          },
          "metadata": {}
        },
        {
          "output_type": "stream",
          "name": "stdout",
          "text": [
            "94 total features after one-hot encoding.\n",
            "['age', 'result', 'A1_Score', 'A2_Score', 'A3_Score', 'A4_Score', 'A5_Score', 'A6_Score', 'A7_Score', 'A8_Score', 'A9_Score', 'A10_Score', 'gender_f', 'gender_m', \"ethnicity_'Middle Eastern '\", \"ethnicity_'South Asian'\", 'ethnicity_Asian', 'ethnicity_Black', 'ethnicity_Hispanic', 'ethnicity_Latino', 'ethnicity_Others', 'ethnicity_Pasifika', 'ethnicity_Turkish', 'ethnicity_White-European', 'ethnicity_others', 'jundice_no', 'jundice_yes', 'autism_no', 'autism_yes', \"country_'Costa Rica'\", \"country_'Czech Republic'\", \"country_'New Zealand'\", \"country_'Saudi Arabia'\", \"country_'Sierra Leone'\", \"country_'South Africa'\", \"country_'Sri Lanka'\", \"country_'United Arab Emirates'\", \"country_'United Kingdom'\", \"country_'United States'\", \"country_'Viet Nam'\", 'country_Afghanistan', 'country_AmericanSamoa', 'country_Angola', 'country_Armenia', 'country_Aruba', 'country_Australia', 'country_Austria', 'country_Bahamas', 'country_Bangladesh', 'country_Belgium', 'country_Bolivia', 'country_Brazil', 'country_Burundi', 'country_Canada', 'country_Chile', 'country_China', 'country_Cyprus', 'country_Ecuador', 'country_Egypt', 'country_Ethiopia', 'country_Finland', 'country_France', 'country_Germany', 'country_Iceland', 'country_India', 'country_Indonesia', 'country_Iran', 'country_Ireland', 'country_Italy', 'country_Jordan', 'country_Malaysia', 'country_Mexico', 'country_Nepal', 'country_Netherlands', 'country_Nicaragua', 'country_Niger', 'country_Oman', 'country_Pakistan', 'country_Philippines', 'country_Portugal', 'country_Romania', 'country_Russia', 'country_Serbia', 'country_Spain', 'country_Sweden', 'country_Tonga', 'country_Turkey', 'country_Ukraine', 'country_Uruguay', \"relation_'Health care professional'\", 'relation_Others', 'relation_Parent', 'relation_Relative', 'relation_Self']\n"
          ]
        }
      ]
    },
    {
      "cell_type": "code",
      "metadata": {
        "colab": {
          "base_uri": "https://localhost:8080/",
          "height": 0
        },
        "id": "CIsXN7qHrNhM",
        "outputId": "e891ea8d-312d-4876-aecb-14d195e5c8ad"
      },
      "source": [
        "# histogram of Class/ASD\n",
        "\n",
        "# 8 bins\n",
        "plt.hist(asd_classes, bins=10)\n",
        "\n",
        "# x-axis limit from 0 to 1\n",
        "plt.xlim(0,1)\n",
        "plt.title('Histogram of Class/ASD')\n",
        "plt.xlabel('Class/ASD from processed data')\n",
        "plt.ylabel('Frequency')"
      ],
      "execution_count": 19,
      "outputs": [
        {
          "output_type": "execute_result",
          "data": {
            "text/plain": [
              "Text(0, 0.5, 'Frequency')"
            ]
          },
          "metadata": {},
          "execution_count": 19
        },
        {
          "output_type": "display_data",
          "data": {
            "image/png": "[encoded data removed]",
            "text/plain": [
              "<Figure size 432x288 with 1 Axes>"
            ]
          },
          "metadata": {}
        }
      ]
    },
    {
      "cell_type": "markdown",
      "metadata": {
        "id": "drhr78555Jhs"
      },
      "source": [
        "# Shuffling and Splitting the data"
      ]
    },
    {
      "cell_type": "markdown",
      "metadata": {
        "id": "WzJp0wHc5PdV"
      },
      "source": [
        "Now all categorical variables have been converted into numerical features, and all numerical features have been normalized. As always, I will now split the data (both features and their labels) into training and test sets. 80% of the data will be used for training and 20% for testing."
      ]
    },
    {
      "cell_type": "code",
      "metadata": {
        "colab": {
          "base_uri": "https://localhost:8080/"
        },
        "id": "AxbUicZirYIV",
        "outputId": "d6090d1d-9a17-44df-b511-5c017b1b4afb"
      },
      "source": [
        "from sklearn.model_selection import train_test_split\n",
        "\n",
        "np.random.seed(1234)\n",
        "\n",
        "X_train, X_test, y_train, y_test = train_test_split(features_final, asd_classes, train_size=0.80, random_state=1)\n",
        "\n",
        "\n",
        "# Show the results of the split\n",
        "print (\"Training set has {} samples.\".format(X_train.shape[0]))\n",
        "print (\"Testing set has {} samples.\".format(X_test.shape[0]))"
      ],
      "execution_count": 20,
      "outputs": [
        {
          "output_type": "stream",
          "name": "stdout",
          "text": [
            "Training set has 487 samples.\n",
            "Testing set has 122 samples.\n"
          ]
        }
      ]
    },
    {
      "cell_type": "markdown",
      "metadata": {
        "id": "_w1LZYsF5oAm"
      },
      "source": [
        "# Models"
      ]
    },
    {
      "cell_type": "markdown",
      "metadata": {
        "id": "zhM-MIkp5k6r"
      },
      "source": [
        "I have applied the following supervised learning models in this project which are currently available in scikit-learn.\n",
        "\n",
        "(1): Decision Trees\n",
        "\n",
        "(2) Random Forest\n",
        "\n",
        "(3) Support Vector Machines (SVM)\n",
        "\n",
        "(4) K-Nearest Neighbors (KNeighbors)"
      ]
    },
    {
      "cell_type": "markdown",
      "metadata": {
        "id": "O5LHB8gD56fU"
      },
      "source": [
        "# Decision Tree"
      ]
    },
    {
      "cell_type": "code",
      "metadata": {
        "colab": {
          "base_uri": "https://localhost:8080/"
        },
        "id": "II8QbYay5bUx",
        "outputId": "7155b320-ad46-49ea-f5e6-480ee9fb8c34"
      },
      "source": [
        "from sklearn import tree\n",
        "from sklearn.tree import DecisionTreeClassifier\n",
        "\n",
        "dectree = DecisionTreeClassifier(random_state=1)\n",
        "\n",
        "# Train the classifier on the training set\n",
        "dectree.fit(X_train, y_train)"
      ],
      "execution_count": 21,
      "outputs": [
        {
          "output_type": "execute_result",
          "data": {
            "text/plain": [
              "DecisionTreeClassifier(random_state=1)"
            ]
          },
          "metadata": {},
          "execution_count": 21
        }
      ]
    },
    {
      "cell_type": "markdown",
      "metadata": {
        "id": "0MH3U7246JXE"
      },
      "source": [
        "# Depiction of Decision Tree Algorithm"
      ]
    },
    {
      "cell_type": "code",
      "metadata": {
        "colab": {
          "base_uri": "https://localhost:8080/",
          "height": 0
        },
        "id": "cz1UCYZn6FzY",
        "outputId": "fb4b3363-14d6-4633-b9d0-10dbcda8a5ab"
      },
      "source": [
        "import pydotplus \n",
        "\n",
        "\n",
        "dot_data = tree.export_graphviz(dectree,\n",
        "                                out_file=None,\n",
        "                                filled=True,\n",
        "                                rounded=True,\n",
        "                                special_characters=True)  \n",
        "graph = pydotplus.graph_from_dot_data(dot_data)  \n",
        "\n",
        "from IPython.display import Image \n",
        "Image(graph.create_png())"
      ],
      "execution_count": 22,
      "outputs": [
        {
          "output_type": "execute_result",
          "data": {
            "image/png": "[encoded data removed]",
            "text/plain": [
              "<IPython.core.display.Image object>"
            ]
          },
          "metadata": {},
          "execution_count": 22
        }
      ]
    },
    {
      "cell_type": "markdown",
      "metadata": {
        "id": "07evuDL-6tqT"
      },
      "source": [
        "# Evaluating the Model Performance"
      ]
    },
    {
      "cell_type": "markdown",
      "metadata": {
        "id": "87uG39Cd64pq"
      },
      "source": [
        "**Metrics**"
      ]
    },
    {
      "cell_type": "markdown",
      "metadata": {
        "id": "M8_qjn8l7CyR"
      },
      "source": [
        "We can use F-beta score as a metric that considers both precision and recall:\n",
        "\n",
        "$$ F_{\\beta} = (1 + \\beta^2) \\cdot \\frac{precision \\cdot recall}{\\left( \\beta^2 \\cdot precision \\right) + recall} $$\n",
        "\n",
        "In particular, when $\\beta = 0.5$, more emphasis is placed on precision. This is called the F$_{0.5}$ score (or F-score for simplicity).\n",
        "\n",
        "Note: Recap of accuracy, precision, recall\n",
        "\n",
        "**Accuracy** measures how often the classifier makes the correct prediction. It’s the ratio of the number of correct predictions to the total number of predictions (the number of test data points).\n",
        "\n",
        "\n",
        "**Precision** tells us what proportion of messages we classified as spam, actually were spam. It is a ratio of true positives(words classified as spam, and which are actually spam) to all positives(all words classified as spam, irrespective of whether that was the correct classificatio), in other words it is the ratio of\n",
        "\n",
        "**[True Positives/(True Positives + False Positives)]**\n",
        "\n",
        "\n",
        "\n",
        "**Recall (sensitivity)** tells us what proportion of messages that actually were spam were classified by us as spam. It is a ratio of true positives(words classified as spam, and which are actually spam) to all the words that were actually spam, in other words it is the ratio of\n",
        "\n",
        "**[True Positives/(True Positives + False Negatives)]**\n",
        "\n",
        "\n",
        "\n",
        "For classification problems that are skewed in their classification distributions like in our case where we have\n",
        "\n",
        "a total of 609 records with\n",
        "180 individuals diagonised with ASD and\n",
        "429 individuals not diagonised with ASD\n",
        "accuracy by itself is not a very good metric. Thus, in this case precision and recall come in very handy. These two metrics can be combined to get the F1 score, which is weighted average(harmonic mean) of the precision and recall scores. This score can range from 0 to 1, with 1 being the best possible F1 score(we take the harmonic mean as we are dealing with ratios)."
      ]
    },
    {
      "cell_type": "code",
      "metadata": {
        "id": "K4lyTalD6PlF"
      },
      "source": [
        "# make class predictions for the testing set\n",
        "y_pred_class = dectree.predict(X_test)"
      ],
      "execution_count": 23,
      "outputs": []
    },
    {
      "cell_type": "code",
      "metadata": {
        "colab": {
          "base_uri": "https://localhost:8080/"
        },
        "id": "jC2Y0YrV8T-O",
        "outputId": "c9438236-49b9-4577-fbd1-69a2eedabcb7"
      },
      "source": [
        "from sklearn import metrics\n",
        "\n",
        "# save confusion matrix and slice into four pieces\n",
        "confusion = metrics.confusion_matrix(y_test, y_pred_class)\n",
        "print(confusion)\n",
        "#[row, column]\n",
        "TP = confusion[1, 1]\n",
        "TN = confusion[0, 0]\n",
        "FP = confusion[0, 1]\n",
        "FN = confusion[1, 0]"
      ],
      "execution_count": 24,
      "outputs": [
        {
          "output_type": "stream",
          "name": "stdout",
          "text": [
            "[[79  0]\n",
            " [ 0 43]]\n"
          ]
        }
      ]
    },
    {
      "cell_type": "markdown",
      "metadata": {
        "id": "aukdmkjO8kD1"
      },
      "source": [
        "# Metrics computed from Confusion Matrix"
      ]
    },
    {
      "cell_type": "markdown",
      "metadata": {
        "id": "4ZQmw6hg8vJW"
      },
      "source": [
        "**Accuracy**"
      ]
    },
    {
      "cell_type": "code",
      "metadata": {
        "id": "_ZnRx9Lf8ZPr",
        "colab": {
          "base_uri": "https://localhost:8080/"
        },
        "outputId": "14be62f4-30fe-478c-dd7c-552da443b7e1"
      },
      "source": [
        "# use float to perform true division, not integer division\n",
        "print((TP + TN) / float(TP + TN + FP + FN))"
      ],
      "execution_count": 25,
      "outputs": [
        {
          "output_type": "stream",
          "name": "stdout",
          "text": [
            "1.0\n"
          ]
        }
      ]
    },
    {
      "cell_type": "markdown",
      "metadata": {
        "id": "uccGHh_l88eh"
      },
      "source": [
        "# Random Forest Algorithm"
      ]
    },
    {
      "cell_type": "code",
      "metadata": {
        "colab": {
          "base_uri": "https://localhost:8080/"
        },
        "id": "-tDKi7Az9Dsb",
        "outputId": "3ffe38d4-f412-423c-ec30-4e6e03aa62da"
      },
      "source": [
        "from sklearn.ensemble import RandomForestClassifier\n",
        "from sklearn.model_selection import cross_val_score\n",
        "\n",
        "ranfor = RandomForestClassifier(n_estimators=5, random_state=1)\n",
        "cv_scores = cross_val_score(ranfor, features_final, asd_classes, cv=10)\n",
        "cv_scores.mean()"
      ],
      "execution_count": 26,
      "outputs": [
        {
          "output_type": "execute_result",
          "data": {
            "text/plain": [
              "0.985191256830601"
            ]
          },
          "metadata": {},
          "execution_count": 26
        }
      ]
    },
    {
      "cell_type": "markdown",
      "metadata": {
        "id": "0aba0j2g9f8I"
      },
      "source": [
        "\n",
        "AUC Score: AUC is the percentage of the ROC plot that is underneath the curve"
      ]
    },
    {
      "cell_type": "code",
      "metadata": {
        "colab": {
          "base_uri": "https://localhost:8080/"
        },
        "id": "g4XnYwBs9GW3",
        "outputId": "9622be52-f982-4009-8bb7-ed79ebd91cb2"
      },
      "source": [
        "# calculate cross-validated AUC\n",
        "cross_val_score(ranfor, features_final, asd_classes, cv=10, scoring='roc_auc').mean()"
      ],
      "execution_count": 27,
      "outputs": [
        {
          "output_type": "execute_result",
          "data": {
            "text/plain": [
              "0.9985019072228374"
            ]
          },
          "metadata": {},
          "execution_count": 27
        }
      ]
    },
    {
      "cell_type": "markdown",
      "metadata": {
        "id": "3ehs2A4r9lAy"
      },
      "source": [
        "**F-beta Score:**"
      ]
    },
    {
      "cell_type": "code",
      "metadata": {
        "colab": {
          "base_uri": "https://localhost:8080/"
        },
        "id": "-hiPS_SW9TSY",
        "outputId": "8c092c36-e4c1-4866-e5b7-09af224d7a20"
      },
      "source": [
        "ranfor.fit(X_train, y_train)\n",
        "from sklearn.metrics import fbeta_score\n",
        "predictions_test = ranfor.predict(X_test)\n",
        "fbeta_score(y_test, predictions_test, average='binary', beta=0.5)"
      ],
      "execution_count": 28,
      "outputs": [
        {
          "output_type": "execute_result",
          "data": {
            "text/plain": [
              "0.9817351598173516"
            ]
          },
          "metadata": {},
          "execution_count": 28
        }
      ]
    },
    {
      "cell_type": "markdown",
      "metadata": {
        "id": "JvHBYGXZB1Sp"
      },
      "source": [
        "# SVM"
      ]
    },
    {
      "cell_type": "code",
      "metadata": {
        "id": "yVUexec99eQS"
      },
      "source": [
        "from sklearn import svm\n",
        "\n",
        "C = 1.0\n",
        "svc = svm.SVC(kernel='linear', C=C, gamma=2)"
      ],
      "execution_count": 29,
      "outputs": []
    },
    {
      "cell_type": "code",
      "metadata": {
        "colab": {
          "base_uri": "https://localhost:8080/"
        },
        "id": "DvPs6l43B83Z",
        "outputId": "0f90e5f9-eced-4b7f-fd6d-c0e53777bed7"
      },
      "source": [
        "cv_scores = cross_val_score(svc, features_final, asd_classes, cv=10)\n",
        "\n",
        "cv_scores.mean()"
      ],
      "execution_count": 30,
      "outputs": [
        {
          "output_type": "execute_result",
          "data": {
            "text/plain": [
              "1.0"
            ]
          },
          "metadata": {},
          "execution_count": 30
        }
      ]
    },
    {
      "cell_type": "code",
      "metadata": {
        "colab": {
          "base_uri": "https://localhost:8080/"
        },
        "id": "iZtHWrwvB_mw",
        "outputId": "a1b4df94-20aa-47a8-9d25-02db7c263802"
      },
      "source": [
        "# calculate cross-validated AUC\n",
        "from sklearn.model_selection import cross_val_score\n",
        "cross_val_score(svc, features_final, asd_classes, cv=10, scoring='roc_auc').mean()"
      ],
      "execution_count": 31,
      "outputs": [
        {
          "output_type": "execute_result",
          "data": {
            "text/plain": [
              "1.0"
            ]
          },
          "metadata": {},
          "execution_count": 31
        }
      ]
    },
    {
      "cell_type": "code",
      "metadata": {
        "colab": {
          "base_uri": "https://localhost:8080/"
        },
        "id": "KGsiNsr6CCmm",
        "outputId": "8c3bcee0-610d-4f71-87fb-f3f287992cc6"
      },
      "source": [
        "svc.fit(X_train, y_train)\n",
        "from sklearn.metrics import fbeta_score\n",
        "predictions_test = svc.predict(X_test)\n",
        "fbeta_score(y_test, predictions_test, average='binary', beta=0.5)"
      ],
      "execution_count": 32,
      "outputs": [
        {
          "output_type": "execute_result",
          "data": {
            "text/plain": [
              "1.0"
            ]
          },
          "metadata": {},
          "execution_count": 32
        }
      ]
    },
    {
      "cell_type": "markdown",
      "metadata": {
        "id": "JX27zuhyCDrU"
      },
      "source": [
        "# KNN"
      ]
    },
    {
      "cell_type": "code",
      "metadata": {
        "colab": {
          "base_uri": "https://localhost:8080/"
        },
        "id": "4aQttgodCHnX",
        "outputId": "4d837070-b7bc-4ba2-bb2c-339449a1e70e"
      },
      "source": [
        "from sklearn import neighbors\n",
        "\n",
        "knn = neighbors.KNeighborsClassifier(n_neighbors=10)\n",
        "cv_scores = cross_val_score(knn, features_final, asd_classes, cv=10)\n",
        "\n",
        "cv_scores.mean()"
      ],
      "execution_count": 33,
      "outputs": [
        {
          "output_type": "execute_result",
          "data": {
            "text/plain": [
              "0.9474590163934427"
            ]
          },
          "metadata": {},
          "execution_count": 33
        }
      ]
    },
    {
      "cell_type": "code",
      "metadata": {
        "colab": {
          "base_uri": "https://localhost:8080/"
        },
        "id": "6nBeh2QsCTqw",
        "outputId": "e171a149-e232-48c9-8719-ae84fde38934"
      },
      "source": [
        "# calculate cross-validated AUC\n",
        "from sklearn.model_selection import cross_val_score\n",
        "cross_val_score(knn, features_final, asd_classes, cv=10, scoring='roc_auc').mean()"
      ],
      "execution_count": 34,
      "outputs": [
        {
          "output_type": "execute_result",
          "data": {
            "text/plain": [
              "0.9930740125507567"
            ]
          },
          "metadata": {},
          "execution_count": 34
        }
      ]
    },
    {
      "cell_type": "code",
      "metadata": {
        "colab": {
          "base_uri": "https://localhost:8080/"
        },
        "id": "gwnUjOOnCW7c",
        "outputId": "3f25c0a1-83a5-48fa-93c2-533ee717f1cc"
      },
      "source": [
        "knn.fit(X_train, y_train)\n",
        "from sklearn.metrics import fbeta_score\n",
        "predictions_test = knn.predict(X_test)\n",
        "fbeta_score(y_test, predictions_test, average='binary', beta=0.5)"
      ],
      "execution_count": 35,
      "outputs": [
        {
          "output_type": "execute_result",
          "data": {
            "text/plain": [
              "0.9360730593607306"
            ]
          },
          "metadata": {},
          "execution_count": 35
        }
      ]
    },
    {
      "cell_type": "code",
      "metadata": {
        "colab": {
          "base_uri": "https://localhost:8080/"
        },
        "id": "AT3GFsfuCZp6",
        "outputId": "d394f1bd-bccf-432f-8689-4e7385e32faf"
      },
      "source": [
        "for n in range(10, 50):\n",
        "    knn = neighbors.KNeighborsClassifier(n_neighbors=n)\n",
        "    cv_scores = cross_val_score(knn, features_final, asd_classes, cv=10)\n",
        "    print (n, cv_scores.mean()) "
      ],
      "execution_count": 36,
      "outputs": [
        {
          "output_type": "stream",
          "name": "stdout",
          "text": [
            "10 0.9474590163934427\n",
            "11 0.9507377049180328\n",
            "12 0.9507377049180328\n",
            "13 0.9556830601092896\n",
            "14 0.9507650273224044\n",
            "15 0.944207650273224\n",
            "16 0.9507650273224044\n",
            "17 0.9507377049180328\n",
            "18 0.9523770491803278\n",
            "19 0.9540163934426229\n",
            "20 0.9523770491803278\n",
            "21 0.9523770491803278\n",
            "22 0.9474590163934424\n",
            "23 0.9490983606557375\n",
            "24 0.9507377049180326\n",
            "25 0.9507377049180328\n",
            "26 0.9523770491803278\n",
            "27 0.9507377049180328\n",
            "28 0.9507377049180326\n",
            "29 0.9507377049180328\n",
            "30 0.9523770491803278\n",
            "31 0.9474863387978143\n",
            "32 0.9491256830601094\n",
            "33 0.9474863387978143\n",
            "34 0.9507650273224044\n",
            "35 0.9491256830601094\n",
            "36 0.9491256830601091\n",
            "37 0.9507650273224044\n",
            "38 0.9540710382513661\n",
            "39 0.9524316939890708\n",
            "40 0.9540710382513659\n",
            "41 0.9524316939890708\n",
            "42 0.9524316939890708\n",
            "43 0.9507923497267757\n",
            "44 0.9507923497267757\n",
            "45 0.9507923497267757\n",
            "46 0.9524316939890708\n",
            "47 0.9524316939890708\n",
            "48 0.9540710382513661\n",
            "49 0.9524316939890708\n"
          ]
        }
      ]
    },
    {
      "cell_type": "markdown",
      "metadata": {
        "id": "rTNrRecJxrZ2"
      },
      "source": [
        "# Naive Bayes"
      ]
    },
    {
      "cell_type": "code",
      "metadata": {
        "colab": {
          "base_uri": "https://localhost:8080/"
        },
        "id": "b2QKHcQMx03i",
        "outputId": "9e06bd55-06e5-42e5-c4f9-f03fafc0a48f"
      },
      "source": [
        "from sklearn.naive_bayes import MultinomialNB\n",
        "\n",
        "#scaler = preprocessing.MinMaxScaler()\n",
        "#all_features_minmax = scaler.fit_transform(all_features)\n",
        "\n",
        "nb = MultinomialNB()\n",
        "cv_scores = cross_val_score(nb, features_final, asd_classes, cv=10)\n",
        "\n",
        "cv_scores.mean()"
      ],
      "execution_count": 37,
      "outputs": [
        {
          "output_type": "execute_result",
          "data": {
            "text/plain": [
              "0.885"
            ]
          },
          "metadata": {},
          "execution_count": 37
        }
      ]
    },
    {
      "cell_type": "code",
      "metadata": {
        "colab": {
          "base_uri": "https://localhost:8080/"
        },
        "id": "7Z9HGHo-x19x",
        "outputId": "4d0d6cdc-59f7-475b-9abb-eae9e47b0014"
      },
      "source": [
        "# calculate cross-validated AUC\n",
        "\n",
        "cross_val_score(nb, features_final, asd_classes, cv=10, scoring='roc_auc').mean()"
      ],
      "execution_count": 38,
      "outputs": [
        {
          "output_type": "execute_result",
          "data": {
            "text/plain": [
              "0.9445090439276485"
            ]
          },
          "metadata": {},
          "execution_count": 38
        }
      ]
    },
    {
      "cell_type": "code",
      "metadata": {
        "colab": {
          "base_uri": "https://localhost:8080/"
        },
        "id": "P-gyh--sx6E7",
        "outputId": "d0d0dc1c-001d-426e-cd90-39860c409523"
      },
      "source": [
        "nb.fit(X_train, y_train)\n",
        "from sklearn.metrics import fbeta_score\n",
        "predictions_test = nb.predict(X_test)\n",
        "fbeta_score(y_test, predictions_test, average='binary', beta=0.5)"
      ],
      "execution_count": 39,
      "outputs": [
        {
          "output_type": "execute_result",
          "data": {
            "text/plain": [
              "0.8370044052863436"
            ]
          },
          "metadata": {},
          "execution_count": 39
        }
      ]
    },
    {
      "cell_type": "markdown",
      "metadata": {
        "id": "7E8s1uDJyJDP"
      },
      "source": [
        "# Logistic Regression"
      ]
    },
    {
      "cell_type": "code",
      "metadata": {
        "colab": {
          "base_uri": "https://localhost:8080/"
        },
        "id": "cd1MuaklyR89",
        "outputId": "88445901-b948-4af3-d179-6bbeb75034dd"
      },
      "source": [
        "from sklearn.linear_model import LogisticRegression\n",
        "\n",
        "logreg = LogisticRegression()\n",
        "cv_scores = cross_val_score(logreg, features_final, asd_classes, cv=10)\n",
        "cv_scores.mean()"
      ],
      "execution_count": 40,
      "outputs": [
        {
          "output_type": "execute_result",
          "data": {
            "text/plain": [
              "0.9934426229508198"
            ]
          },
          "metadata": {},
          "execution_count": 40
        }
      ]
    },
    {
      "cell_type": "code",
      "metadata": {
        "colab": {
          "base_uri": "https://localhost:8080/"
        },
        "id": "NKOzdaAfyV5D",
        "outputId": "6a97084e-7058-4605-b96a-b653874c9818"
      },
      "source": [
        "cv_scores_roc = cross_val_score(logreg, features_final, asd_classes, cv=10, scoring='roc_auc').mean()\n",
        "cv_scores_roc.mean()"
      ],
      "execution_count": 41,
      "outputs": [
        {
          "output_type": "execute_result",
          "data": {
            "text/plain": [
              "1.0"
            ]
          },
          "metadata": {},
          "execution_count": 41
        }
      ]
    },
    {
      "cell_type": "code",
      "metadata": {
        "colab": {
          "base_uri": "https://localhost:8080/"
        },
        "id": "fBF1ypvjyamK",
        "outputId": "f2be7461-4652-4df6-f803-b48cd8ab965e"
      },
      "source": [
        "logreg.fit(X_train, y_train)\n",
        "from sklearn.metrics import fbeta_score\n",
        "predictions_test = logreg.predict(X_test)\n",
        "fbeta_score(y_test, predictions_test, average='binary', beta=0.5)"
      ],
      "execution_count": 42,
      "outputs": [
        {
          "output_type": "execute_result",
          "data": {
            "text/plain": [
              "0.9641255605381165"
            ]
          },
          "metadata": {},
          "execution_count": 42
        }
      ]
    },
    {
      "cell_type": "markdown",
      "metadata": {
        "id": "nZMH0FQCyf3Y"
      },
      "source": [
        "# Linear Discriminant Analysis"
      ]
    },
    {
      "cell_type": "code",
      "metadata": {
        "colab": {
          "base_uri": "https://localhost:8080/"
        },
        "id": "wBAl00wHynPJ",
        "outputId": "0a2b1b72-1a35-4bc4-aaa6-a1bf40cb88f3"
      },
      "source": [
        "from sklearn.discriminant_analysis import LinearDiscriminantAnalysis\n",
        "\n",
        "lda = LinearDiscriminantAnalysis()\n",
        "cv_scores = cross_val_score(lda, features_final, asd_classes, cv=10)\n",
        "cv_scores.mean()"
      ],
      "execution_count": 43,
      "outputs": [
        {
          "output_type": "execute_result",
          "data": {
            "text/plain": [
              "0.9326229508196722"
            ]
          },
          "metadata": {},
          "execution_count": 43
        }
      ]
    },
    {
      "cell_type": "code",
      "metadata": {
        "colab": {
          "base_uri": "https://localhost:8080/"
        },
        "id": "ECDamqxLyqSi",
        "outputId": "ae0079a3-b1fa-41cb-82bf-2b7703d55ef1"
      },
      "source": [
        "cv_scores_roc = cross_val_score(lda, features_final, asd_classes, cv=10, scoring='roc_auc').mean()\n",
        "cv_scores_roc.mean()"
      ],
      "execution_count": 44,
      "outputs": [
        {
          "output_type": "execute_result",
          "data": {
            "text/plain": [
              "0.9850590623846438"
            ]
          },
          "metadata": {},
          "execution_count": 44
        }
      ]
    },
    {
      "cell_type": "code",
      "metadata": {
        "colab": {
          "base_uri": "https://localhost:8080/"
        },
        "id": "alMM-fUlytCU",
        "outputId": "d86b412a-eff4-4165-9a3e-5f603300eea7"
      },
      "source": [
        "lda.fit(X_train, y_train)\n",
        "from sklearn.metrics import fbeta_score\n",
        "predictions_test = lda.predict(X_test)\n",
        "fbeta_score(y_test, predictions_test, average='binary', beta=0.5)"
      ],
      "execution_count": 45,
      "outputs": [
        {
          "output_type": "execute_result",
          "data": {
            "text/plain": [
              "0.9148936170212767"
            ]
          },
          "metadata": {},
          "execution_count": 45
        }
      ]
    },
    {
      "cell_type": "markdown",
      "metadata": {
        "id": "y4hz_Xze0bPV"
      },
      "source": [
        "# Model Tuning"
      ]
    },
    {
      "cell_type": "markdown",
      "metadata": {
        "id": "5bCmxb9g0g3R"
      },
      "source": [
        "Now I will fine tune the chosen model. For this I use grid search (GridSearchCV) with at least one important parameter tuned with at least 3 different values. I will need to use the entire training set for this. In the code cell below, I will need to implement the following:\n",
        "\n",
        "->Import sklearn.grid_search.GridSearchCV and sklearn.metrics.make_scorer.\n",
        "\n",
        "->Initialize the classifier you've chosen and store it in clf.\n",
        "\n",
        "->Set a random_state if one is available to the same state you set before.\n",
        "\n",
        "->Create a dictionary of parameters you wish to tune for the chosen model.\n",
        "\n",
        "Example: parameters = {'parameter' : [list of values]}.\n",
        "\n",
        "Note: Avoid tuning the max_features parameter of your learner if that parameter is available!\n",
        "\n",
        "->Use make_scorer to create an fbeta_score scoring object (with $\\beta = 0.5$).\n",
        "\n",
        "->Perform grid search on the classifier clf using the 'scorer', and store it in grid_obj.\n",
        "\n",
        "->Fit the grid search object to the training data (X_train, y_train), and store it in grid_fit.\n",
        "\n",
        "->Note that, svm.SVC may perform differently with different kernels. The choice of kernel is an example of a \"hyperparamter.\" Here I experiented with different kernels such as 'rbf', 'sigmoid', and 'poly' and found that the best-performing kernel is linear."
      ]
    },
    {
      "cell_type": "code",
      "metadata": {
        "colab": {
          "base_uri": "https://localhost:8080/"
        },
        "id": "757YoVm307sY",
        "outputId": "0cb5162a-ddd3-40e1-b797-7d5cceb82ab5"
      },
      "source": [
        "from sklearn.metrics import fbeta_score\n",
        "from sklearn.metrics import accuracy_score\n",
        "\n",
        "from sklearn.metrics import make_scorer\n",
        "from sklearn.svm import SVC\n",
        "from sklearn.model_selection import GridSearchCV\n",
        "\n",
        "\n",
        "def f_beta_score(y_true, y_predict):\n",
        "    return fbeta_score(y_true, y_predict, beta = 0.5)\n",
        "\n",
        "\n",
        "\n",
        "clf = SVC(random_state = 1)\n",
        "\n",
        "# HINT: parameters = {'parameter_1': [value1, value2], 'parameter_2': [value1, value2]}\n",
        "parameters = {'C':range(1,6),'kernel':['linear','poly','rbf','sigmoid'],'degree':range(1,6)}\n",
        "\n",
        "#Make an fbeta_score scoring object using make_scorer()\n",
        "scorer = make_scorer(f_beta_score)\n",
        "\n",
        "#Perform grid search on the classifier using 'scorer' as the scoring method using GridSearchCV()\n",
        "grid_obj = GridSearchCV(estimator = clf, param_grid = parameters, scoring = scorer)\n",
        "\n",
        "#Fit the grid search object to the training data and find the optimal parameters using fit()\n",
        "grid_fit = grid_obj.fit(X_train, y_train)\n",
        "\n",
        "# Get the estimator\n",
        "best_clf = grid_fit.best_estimator_\n",
        "\n",
        "# Make predictions using the unoptimized and model\n",
        "predictions = (clf.fit(X_train, y_train)).predict(X_test)\n",
        "best_predictions = best_clf.predict(X_test)\n",
        "\n",
        "# Report the before-and-afterscores\n",
        "print (\"Unoptimized model\\n------\")\n",
        "print (\"Accuracy score on testing data: {:.4f}\".format(accuracy_score(y_test, predictions)))\n",
        "print (\"F-score on testing data: {:.4f}\".format(fbeta_score(y_test, predictions, beta = 0.5)))\n",
        "print (\"\\nOptimized Model\\n------\")\n",
        "print (\"Final accuracy score on the testing data: {:.4f}\".format(accuracy_score(y_test, best_predictions)))\n",
        "print (\"Final F-score on the testing data: {:.4f}\".format(fbeta_score(y_test, best_predictions, beta = 0.5)))\n"
      ],
      "execution_count": 46,
      "outputs": [
        {
          "output_type": "stream",
          "name": "stdout",
          "text": [
            "Unoptimized model\n",
            "------\n",
            "Accuracy score on testing data: 0.9590\n",
            "F-score on testing data: 0.9361\n",
            "\n",
            "Optimized Model\n",
            "------\n",
            "Final accuracy score on the testing data: 1.0000\n",
            "Final F-score on the testing data: 1.0000\n"
          ]
        }
      ]
    },
    {
      "cell_type": "markdown",
      "metadata": {
        "id": "e81-bBMf1pKw"
      },
      "source": [
        "# Feature Importance"
      ]
    },
    {
      "cell_type": "markdown",
      "metadata": {
        "id": "dXTCCLd511Px"
      },
      "source": [
        "An important task when performing supervised learning on a dataset like the autistic data we study here is determining which features provide the most predictive power. By focusing on the relationship between only a few crucial features and the target label we simplify our understanding of the phenomenon, which is most always a useful thing to do. In the case of this project, that means we wish to identify a small number of features that most strongly predict whether an individual has ASD or not.\n",
        "\n",
        "\n",
        "Choose a scikit-learn classifier (e.g., gradientBoosting, adaboost, random forests) that has a feature_importance_ attribute, which is a function that ranks the importance of features according to the chosen classifier. In the next python cell fit this classifier to training set and use this attribute to determine the top 5 most important features for the ASD dataset."
      ]
    },
    {
      "cell_type": "markdown",
      "metadata": {
        "id": "qfzuUmuO2COt"
      },
      "source": [
        "# Extracting feature importance"
      ]
    },
    {
      "cell_type": "markdown",
      "metadata": {
        "id": "d4Adk1qz17h0"
      },
      "source": [
        "Choose a scikit-learn supervised learning algorithm that has a feature_importance_ attribute availble for it. This attribute is a function that ranks the importance of each feature when making predictions based on the chosen algorithm.\n",
        "\n",
        "\n",
        "In the code cell below, I will implement the following:\n",
        "\n",
        "\n",
        "->Import a supervised learning model from sklearn if it is different from the three used earlier.\n",
        "\n",
        "->Train the supervised model on the entire training set.\n",
        "Extract the feature importances using '.feature_importances_'."
      ]
    },
    {
      "cell_type": "code",
      "metadata": {
        "colab": {
          "base_uri": "https://localhost:8080/"
        },
        "id": "2xP7-GLg2zJy",
        "outputId": "a03f9f2f-a65a-4772-d553-50a2f0b8d976"
      },
      "source": [
        "!pip install visualpython"
      ],
      "execution_count": 47,
      "outputs": [
        {
          "output_type": "stream",
          "name": "stdout",
          "text": [
            "Collecting visualpython\n",
            "  Downloading visualpython-1.2.2-py3-none-any.whl (12.0 MB)\n",
            "\u001b[K     |████████████████████████████████| 12.0 MB 5.5 MB/s \n",
            "\u001b[?25hInstalling collected packages: visualpython\n",
            "Successfully installed visualpython-1.2.2\n"
          ]
        }
      ]
    },
    {
      "cell_type": "code",
      "metadata": {
        "colab": {
          "base_uri": "https://localhost:8080/",
          "height": 0
        },
        "id": "PafLaNBS1y0e",
        "outputId": "da9aa1f3-fb20-4d93-b191-8befd37837b4"
      },
      "source": [
        "from sklearn.ensemble import GradientBoostingClassifier\n",
        "import visualpython as vs\n",
        "from matplotlib import pyplot\n",
        "model = GradientBoostingClassifier(random_state=0)\n",
        "model.fit(X_train, y_train)\n",
        "\n",
        "# Extract the feature importances using .feature_importances_ \n",
        "importance = model.feature_importances_\n",
        "print(importance)\n",
        "# summarize feature importance\n",
        "for i,v in enumerate(importance):\n",
        "\tprint('Feature: %0d, Score: %.5f' % (i,v))\n",
        "# plot feature importance\n",
        "pyplot.bar([x for x in range(len(importance))], importance)\n",
        "pyplot.show()"
      ],
      "execution_count": 48,
      "outputs": [
        {
          "output_type": "stream",
          "name": "stdout",
          "text": [
            "Visual Python\n",
            "[ 1.55473723e-15  1.00000000e+00  0.00000000e+00  0.00000000e+00\n",
            "  0.00000000e+00  0.00000000e+00  0.00000000e+00  0.00000000e+00\n",
            "  0.00000000e+00  2.74688746e-16  0.00000000e+00  1.06737418e-18\n",
            "  0.00000000e+00 -1.53701882e-17  0.00000000e+00  0.00000000e+00\n",
            "  0.00000000e+00  0.00000000e+00  0.00000000e+00  0.00000000e+00\n",
            "  0.00000000e+00  0.00000000e+00  0.00000000e+00  0.00000000e+00\n",
            "  0.00000000e+00  0.00000000e+00  9.88495231e-16  0.00000000e+00\n",
            "  0.00000000e+00  0.00000000e+00  0.00000000e+00  0.00000000e+00\n",
            "  0.00000000e+00  0.00000000e+00  0.00000000e+00  0.00000000e+00\n",
            "  0.00000000e+00  0.00000000e+00  0.00000000e+00  0.00000000e+00\n",
            "  0.00000000e+00  0.00000000e+00  0.00000000e+00  0.00000000e+00\n",
            "  0.00000000e+00  0.00000000e+00  0.00000000e+00  0.00000000e+00\n",
            "  0.00000000e+00  0.00000000e+00  0.00000000e+00  0.00000000e+00\n",
            "  0.00000000e+00  0.00000000e+00  0.00000000e+00  0.00000000e+00\n",
            "  0.00000000e+00  0.00000000e+00  0.00000000e+00  0.00000000e+00\n",
            "  0.00000000e+00  0.00000000e+00  0.00000000e+00  0.00000000e+00\n",
            "  0.00000000e+00  0.00000000e+00  0.00000000e+00  0.00000000e+00\n",
            "  0.00000000e+00  0.00000000e+00  0.00000000e+00  0.00000000e+00\n",
            "  0.00000000e+00  0.00000000e+00  0.00000000e+00  0.00000000e+00\n",
            "  0.00000000e+00  0.00000000e+00  0.00000000e+00  0.00000000e+00\n",
            "  0.00000000e+00  0.00000000e+00  0.00000000e+00  0.00000000e+00\n",
            "  0.00000000e+00  0.00000000e+00  0.00000000e+00  0.00000000e+00\n",
            "  0.00000000e+00  0.00000000e+00  0.00000000e+00  0.00000000e+00\n",
            "  0.00000000e+00  0.00000000e+00]\n",
            "Feature: 0, Score: 0.00000\n",
            "Feature: 1, Score: 1.00000\n",
            "Feature: 2, Score: 0.00000\n",
            "Feature: 3, Score: 0.00000\n",
            "Feature: 4, Score: 0.00000\n",
            "Feature: 5, Score: 0.00000\n",
            "Feature: 6, Score: 0.00000\n",
            "Feature: 7, Score: 0.00000\n",
            "Feature: 8, Score: 0.00000\n",
            "Feature: 9, Score: 0.00000\n",
            "Feature: 10, Score: 0.00000\n",
            "Feature: 11, Score: 0.00000\n",
            "Feature: 12, Score: 0.00000\n",
            "Feature: 13, Score: -0.00000\n",
            "Feature: 14, Score: 0.00000\n",
            "Feature: 15, Score: 0.00000\n",
            "Feature: 16, Score: 0.00000\n",
            "Feature: 17, Score: 0.00000\n",
            "Feature: 18, Score: 0.00000\n",
            "Feature: 19, Score: 0.00000\n",
            "Feature: 20, Score: 0.00000\n",
            "Feature: 21, Score: 0.00000\n",
            "Feature: 22, Score: 0.00000\n",
            "Feature: 23, Score: 0.00000\n",
            "Feature: 24, Score: 0.00000\n",
            "Feature: 25, Score: 0.00000\n",
            "Feature: 26, Score: 0.00000\n",
            "Feature: 27, Score: 0.00000\n",
            "Feature: 28, Score: 0.00000\n",
            "Feature: 29, Score: 0.00000\n",
            "Feature: 30, Score: 0.00000\n",
            "Feature: 31, Score: 0.00000\n",
            "Feature: 32, Score: 0.00000\n",
            "Feature: 33, Score: 0.00000\n",
            "Feature: 34, Score: 0.00000\n",
            "Feature: 35, Score: 0.00000\n",
            "Feature: 36, Score: 0.00000\n",
            "Feature: 37, Score: 0.00000\n",
            "Feature: 38, Score: 0.00000\n",
            "Feature: 39, Score: 0.00000\n",
            "Feature: 40, Score: 0.00000\n",
            "Feature: 41, Score: 0.00000\n",
            "Feature: 42, Score: 0.00000\n",
            "Feature: 43, Score: 0.00000\n",
            "Feature: 44, Score: 0.00000\n",
            "Feature: 45, Score: 0.00000\n",
            "Feature: 46, Score: 0.00000\n",
            "Feature: 47, Score: 0.00000\n",
            "Feature: 48, Score: 0.00000\n",
            "Feature: 49, Score: 0.00000\n",
            "Feature: 50, Score: 0.00000\n",
            "Feature: 51, Score: 0.00000\n",
            "Feature: 52, Score: 0.00000\n",
            "Feature: 53, Score: 0.00000\n",
            "Feature: 54, Score: 0.00000\n",
            "Feature: 55, Score: 0.00000\n",
            "Feature: 56, Score: 0.00000\n",
            "Feature: 57, Score: 0.00000\n",
            "Feature: 58, Score: 0.00000\n",
            "Feature: 59, Score: 0.00000\n",
            "Feature: 60, Score: 0.00000\n",
            "Feature: 61, Score: 0.00000\n",
            "Feature: 62, Score: 0.00000\n",
            "Feature: 63, Score: 0.00000\n",
            "Feature: 64, Score: 0.00000\n",
            "Feature: 65, Score: 0.00000\n",
            "Feature: 66, Score: 0.00000\n",
            "Feature: 67, Score: 0.00000\n",
            "Feature: 68, Score: 0.00000\n",
            "Feature: 69, Score: 0.00000\n",
            "Feature: 70, Score: 0.00000\n",
            "Feature: 71, Score: 0.00000\n",
            "Feature: 72, Score: 0.00000\n",
            "Feature: 73, Score: 0.00000\n",
            "Feature: 74, Score: 0.00000\n",
            "Feature: 75, Score: 0.00000\n",
            "Feature: 76, Score: 0.00000\n",
            "Feature: 77, Score: 0.00000\n",
            "Feature: 78, Score: 0.00000\n",
            "Feature: 79, Score: 0.00000\n",
            "Feature: 80, Score: 0.00000\n",
            "Feature: 81, Score: 0.00000\n",
            "Feature: 82, Score: 0.00000\n",
            "Feature: 83, Score: 0.00000\n",
            "Feature: 84, Score: 0.00000\n",
            "Feature: 85, Score: 0.00000\n",
            "Feature: 86, Score: 0.00000\n",
            "Feature: 87, Score: 0.00000\n",
            "Feature: 88, Score: 0.00000\n",
            "Feature: 89, Score: 0.00000\n",
            "Feature: 90, Score: 0.00000\n",
            "Feature: 91, Score: 0.00000\n",
            "Feature: 92, Score: 0.00000\n",
            "Feature: 93, Score: 0.00000\n"
          ]
        },
        {
          "output_type": "display_data",
          "data": {
            "image/png": "[encoded data removed]",
            "text/plain": [
              "<Figure size 432x288 with 1 Axes>"
            ]
          },
          "metadata": {}
        }
      ]
    },
    {
      "cell_type": "markdown",
      "metadata": {
        "id": "TLx8yD0m8Ko7"
      },
      "source": [
        "# Building an MLP Architecture"
      ]
    },
    {
      "cell_type": "code",
      "metadata": {
        "id": "N587Tr3i8SA3"
      },
      "source": [
        "\n",
        "# Imports\n",
        "import numpy as np\n",
        "import keras\n",
        "from keras.models import Sequential\n",
        "from keras.layers import Dense, Dropout, Activation\n",
        "\n",
        "\n",
        "np.random.seed(42)"
      ],
      "execution_count": 49,
      "outputs": []
    },
    {
      "cell_type": "code",
      "metadata": {
        "colab": {
          "base_uri": "https://localhost:8080/"
        },
        "id": "ndmSmr2s8U8g",
        "outputId": "bf9ca329-25fb-4bb1-ec55-c532deacf176"
      },
      "source": [
        "# Building the model architecture with one layer of length 4\n",
        "\n",
        "\n",
        "model = Sequential()\n",
        "model.add(Dense(8, activation='relu', input_dim= 94))\n",
        "model.add(Dropout(0.2))\n",
        "model.add(Dense(1, kernel_initializer='normal', activation='sigmoid'))\n",
        "   \n",
        "    \n",
        "model.summary()"
      ],
      "execution_count": 50,
      "outputs": [
        {
          "output_type": "stream",
          "name": "stdout",
          "text": [
            "Model: \"sequential\"\n",
            "_________________________________________________________________\n",
            " Layer (type)                Output Shape              Param #   \n",
            "=================================================================\n",
            " dense (Dense)               (None, 8)                 760       \n",
            "                                                                 \n",
            " dropout (Dropout)           (None, 8)                 0         \n",
            "                                                                 \n",
            " dense_1 (Dense)             (None, 1)                 9         \n",
            "                                                                 \n",
            "=================================================================\n",
            "Total params: 769\n",
            "Trainable params: 769\n",
            "Non-trainable params: 0\n",
            "_________________________________________________________________\n"
          ]
        }
      ]
    },
    {
      "cell_type": "code",
      "metadata": {
        "id": "05iaxFLB8br1"
      },
      "source": [
        "# Compiling the model using categorical_crossentropy loss, and rmsprop optimizer.\n",
        "model.compile(loss='binary_crossentropy',\n",
        "              optimizer='rmsprop',\n",
        "              metrics=['accuracy'])\n"
      ],
      "execution_count": 51,
      "outputs": []
    },
    {
      "cell_type": "code",
      "metadata": {
        "colab": {
          "base_uri": "https://localhost:8080/"
        },
        "id": "Gm2R4LXY8guJ",
        "outputId": "59b7e937-413c-47b9-ed28-4d845e1acaac"
      },
      "source": [
        "# Running and evaluating the model\n",
        "hist = model.fit(X_train, y_train,\n",
        "          batch_size=16,\n",
        "          epochs=100,\n",
        "          validation_data=(X_test, y_test), \n",
        "          verbose=2)"
      ],
      "execution_count": 52,
      "outputs": [
        {
          "output_type": "stream",
          "name": "stdout",
          "text": [
            "Epoch 1/100\n",
            "31/31 - 3s - loss: 0.6868 - accuracy: 0.6366 - val_loss: 0.6819 - val_accuracy: 0.6475 - 3s/epoch - 88ms/step\n",
            "Epoch 2/100\n",
            "31/31 - 0s - loss: 0.6669 - accuracy: 0.7187 - val_loss: 0.6653 - val_accuracy: 0.6475 - 136ms/epoch - 4ms/step\n",
            "Epoch 3/100\n",
            "31/31 - 0s - loss: 0.6459 - accuracy: 0.7187 - val_loss: 0.6473 - val_accuracy: 0.6475 - 147ms/epoch - 5ms/step\n",
            "Epoch 4/100\n",
            "31/31 - 0s - loss: 0.6149 - accuracy: 0.7187 - val_loss: 0.6271 - val_accuracy: 0.6475 - 143ms/epoch - 5ms/step\n",
            "Epoch 5/100\n",
            "31/31 - 0s - loss: 0.5913 - accuracy: 0.7187 - val_loss: 0.6061 - val_accuracy: 0.6475 - 148ms/epoch - 5ms/step\n",
            "Epoch 6/100\n",
            "31/31 - 0s - loss: 0.5636 - accuracy: 0.7187 - val_loss: 0.5823 - val_accuracy: 0.6475 - 139ms/epoch - 4ms/step\n",
            "Epoch 7/100\n",
            "31/31 - 0s - loss: 0.5398 - accuracy: 0.7187 - val_loss: 0.5536 - val_accuracy: 0.6475 - 154ms/epoch - 5ms/step\n",
            "Epoch 8/100\n",
            "31/31 - 0s - loss: 0.5048 - accuracy: 0.7187 - val_loss: 0.5238 - val_accuracy: 0.6557 - 144ms/epoch - 5ms/step\n",
            "Epoch 9/100\n",
            "31/31 - 0s - loss: 0.4826 - accuracy: 0.7454 - val_loss: 0.4958 - val_accuracy: 0.6721 - 139ms/epoch - 4ms/step\n",
            "Epoch 10/100\n",
            "31/31 - 0s - loss: 0.4552 - accuracy: 0.7721 - val_loss: 0.4630 - val_accuracy: 0.6885 - 140ms/epoch - 5ms/step\n",
            "Epoch 11/100\n",
            "31/31 - 0s - loss: 0.4245 - accuracy: 0.8131 - val_loss: 0.4352 - val_accuracy: 0.7541 - 138ms/epoch - 4ms/step\n",
            "Epoch 12/100\n",
            "31/31 - 0s - loss: 0.3988 - accuracy: 0.8255 - val_loss: 0.4101 - val_accuracy: 0.8033 - 155ms/epoch - 5ms/step\n",
            "Epoch 13/100\n",
            "31/31 - 0s - loss: 0.3841 - accuracy: 0.8583 - val_loss: 0.3842 - val_accuracy: 0.8443 - 142ms/epoch - 5ms/step\n",
            "Epoch 14/100\n",
            "31/31 - 0s - loss: 0.3598 - accuracy: 0.8665 - val_loss: 0.3624 - val_accuracy: 0.8689 - 150ms/epoch - 5ms/step\n",
            "Epoch 15/100\n",
            "31/31 - 0s - loss: 0.3399 - accuracy: 0.8727 - val_loss: 0.3389 - val_accuracy: 0.8525 - 137ms/epoch - 4ms/step\n",
            "Epoch 16/100\n",
            "31/31 - 0s - loss: 0.3240 - accuracy: 0.8830 - val_loss: 0.3184 - val_accuracy: 0.8689 - 151ms/epoch - 5ms/step\n",
            "Epoch 17/100\n",
            "31/31 - 0s - loss: 0.3007 - accuracy: 0.8850 - val_loss: 0.2990 - val_accuracy: 0.8689 - 145ms/epoch - 5ms/step\n",
            "Epoch 18/100\n",
            "31/31 - 0s - loss: 0.2880 - accuracy: 0.9035 - val_loss: 0.2803 - val_accuracy: 0.9016 - 149ms/epoch - 5ms/step\n",
            "Epoch 19/100\n",
            "31/31 - 0s - loss: 0.2658 - accuracy: 0.8891 - val_loss: 0.2649 - val_accuracy: 0.9098 - 145ms/epoch - 5ms/step\n",
            "Epoch 20/100\n",
            "31/31 - 0s - loss: 0.2633 - accuracy: 0.8994 - val_loss: 0.2544 - val_accuracy: 0.9016 - 153ms/epoch - 5ms/step\n",
            "Epoch 21/100\n",
            "31/31 - 0s - loss: 0.2565 - accuracy: 0.8850 - val_loss: 0.2398 - val_accuracy: 0.9180 - 139ms/epoch - 4ms/step\n",
            "Epoch 22/100\n",
            "31/31 - 0s - loss: 0.2383 - accuracy: 0.9158 - val_loss: 0.2291 - val_accuracy: 0.9262 - 144ms/epoch - 5ms/step\n",
            "Epoch 23/100\n",
            "31/31 - 0s - loss: 0.2346 - accuracy: 0.8994 - val_loss: 0.2166 - val_accuracy: 0.9344 - 149ms/epoch - 5ms/step\n",
            "Epoch 24/100\n",
            "31/31 - 0s - loss: 0.2386 - accuracy: 0.8809 - val_loss: 0.2118 - val_accuracy: 0.9262 - 134ms/epoch - 4ms/step\n",
            "Epoch 25/100\n",
            "31/31 - 0s - loss: 0.2170 - accuracy: 0.9055 - val_loss: 0.2027 - val_accuracy: 0.9262 - 145ms/epoch - 5ms/step\n",
            "Epoch 26/100\n",
            "31/31 - 0s - loss: 0.2070 - accuracy: 0.8973 - val_loss: 0.1948 - val_accuracy: 0.9262 - 142ms/epoch - 5ms/step\n",
            "Epoch 27/100\n",
            "31/31 - 0s - loss: 0.2155 - accuracy: 0.8891 - val_loss: 0.1873 - val_accuracy: 0.9344 - 155ms/epoch - 5ms/step\n",
            "Epoch 28/100\n",
            "31/31 - 0s - loss: 0.1947 - accuracy: 0.9138 - val_loss: 0.1805 - val_accuracy: 0.9344 - 151ms/epoch - 5ms/step\n",
            "Epoch 29/100\n",
            "31/31 - 0s - loss: 0.1875 - accuracy: 0.9055 - val_loss: 0.1745 - val_accuracy: 0.9344 - 140ms/epoch - 5ms/step\n",
            "Epoch 30/100\n",
            "31/31 - 0s - loss: 0.1852 - accuracy: 0.9117 - val_loss: 0.1682 - val_accuracy: 0.9590 - 143ms/epoch - 5ms/step\n",
            "Epoch 31/100\n",
            "31/31 - 0s - loss: 0.1835 - accuracy: 0.8953 - val_loss: 0.1629 - val_accuracy: 0.9590 - 137ms/epoch - 4ms/step\n",
            "Epoch 32/100\n",
            "31/31 - 0s - loss: 0.1705 - accuracy: 0.9097 - val_loss: 0.1579 - val_accuracy: 0.9590 - 139ms/epoch - 4ms/step\n",
            "Epoch 33/100\n",
            "31/31 - 0s - loss: 0.1819 - accuracy: 0.8953 - val_loss: 0.1543 - val_accuracy: 0.9590 - 143ms/epoch - 5ms/step\n",
            "Epoch 34/100\n",
            "31/31 - 0s - loss: 0.1677 - accuracy: 0.9035 - val_loss: 0.1492 - val_accuracy: 0.9590 - 144ms/epoch - 5ms/step\n",
            "Epoch 35/100\n",
            "31/31 - 0s - loss: 0.1691 - accuracy: 0.9014 - val_loss: 0.1455 - val_accuracy: 0.9590 - 144ms/epoch - 5ms/step\n",
            "Epoch 36/100\n",
            "31/31 - 0s - loss: 0.1632 - accuracy: 0.9302 - val_loss: 0.1422 - val_accuracy: 0.9590 - 135ms/epoch - 4ms/step\n",
            "Epoch 37/100\n",
            "31/31 - 0s - loss: 0.1510 - accuracy: 0.9384 - val_loss: 0.1415 - val_accuracy: 0.9508 - 142ms/epoch - 5ms/step\n",
            "Epoch 38/100\n",
            "31/31 - 0s - loss: 0.1508 - accuracy: 0.9446 - val_loss: 0.1381 - val_accuracy: 0.9590 - 154ms/epoch - 5ms/step\n",
            "Epoch 39/100\n",
            "31/31 - 0s - loss: 0.1566 - accuracy: 0.9322 - val_loss: 0.1353 - val_accuracy: 0.9590 - 147ms/epoch - 5ms/step\n",
            "Epoch 40/100\n",
            "31/31 - 0s - loss: 0.1644 - accuracy: 0.9302 - val_loss: 0.1334 - val_accuracy: 0.9590 - 164ms/epoch - 5ms/step\n",
            "Epoch 41/100\n",
            "31/31 - 0s - loss: 0.1478 - accuracy: 0.9466 - val_loss: 0.1309 - val_accuracy: 0.9590 - 159ms/epoch - 5ms/step\n",
            "Epoch 42/100\n",
            "31/31 - 0s - loss: 0.1564 - accuracy: 0.9446 - val_loss: 0.1288 - val_accuracy: 0.9590 - 153ms/epoch - 5ms/step\n",
            "Epoch 43/100\n",
            "31/31 - 0s - loss: 0.1272 - accuracy: 0.9589 - val_loss: 0.1258 - val_accuracy: 0.9590 - 140ms/epoch - 5ms/step\n",
            "Epoch 44/100\n",
            "31/31 - 0s - loss: 0.1445 - accuracy: 0.9507 - val_loss: 0.1239 - val_accuracy: 0.9590 - 134ms/epoch - 4ms/step\n",
            "Epoch 45/100\n",
            "31/31 - 0s - loss: 0.1311 - accuracy: 0.9487 - val_loss: 0.1214 - val_accuracy: 0.9672 - 158ms/epoch - 5ms/step\n",
            "Epoch 46/100\n",
            "31/31 - 0s - loss: 0.1342 - accuracy: 0.9507 - val_loss: 0.1196 - val_accuracy: 0.9590 - 151ms/epoch - 5ms/step\n",
            "Epoch 47/100\n",
            "31/31 - 0s - loss: 0.1234 - accuracy: 0.9589 - val_loss: 0.1164 - val_accuracy: 0.9672 - 162ms/epoch - 5ms/step\n",
            "Epoch 48/100\n",
            "31/31 - 0s - loss: 0.1327 - accuracy: 0.9528 - val_loss: 0.1145 - val_accuracy: 0.9672 - 136ms/epoch - 4ms/step\n",
            "Epoch 49/100\n",
            "31/31 - 0s - loss: 0.1299 - accuracy: 0.9569 - val_loss: 0.1123 - val_accuracy: 0.9590 - 134ms/epoch - 4ms/step\n",
            "Epoch 50/100\n",
            "31/31 - 0s - loss: 0.1249 - accuracy: 0.9610 - val_loss: 0.1116 - val_accuracy: 0.9672 - 143ms/epoch - 5ms/step\n",
            "Epoch 51/100\n",
            "31/31 - 0s - loss: 0.1191 - accuracy: 0.9569 - val_loss: 0.1101 - val_accuracy: 0.9590 - 139ms/epoch - 4ms/step\n",
            "Epoch 52/100\n",
            "31/31 - 0s - loss: 0.1255 - accuracy: 0.9507 - val_loss: 0.1090 - val_accuracy: 0.9590 - 136ms/epoch - 4ms/step\n",
            "Epoch 53/100\n",
            "31/31 - 0s - loss: 0.1098 - accuracy: 0.9610 - val_loss: 0.1058 - val_accuracy: 0.9672 - 157ms/epoch - 5ms/step\n",
            "Epoch 54/100\n",
            "31/31 - 0s - loss: 0.1092 - accuracy: 0.9651 - val_loss: 0.1039 - val_accuracy: 0.9672 - 146ms/epoch - 5ms/step\n",
            "Epoch 55/100\n",
            "31/31 - 0s - loss: 0.1007 - accuracy: 0.9692 - val_loss: 0.1011 - val_accuracy: 0.9672 - 143ms/epoch - 5ms/step\n",
            "Epoch 56/100\n",
            "31/31 - 0s - loss: 0.1096 - accuracy: 0.9713 - val_loss: 0.1005 - val_accuracy: 0.9590 - 153ms/epoch - 5ms/step\n",
            "Epoch 57/100\n",
            "31/31 - 0s - loss: 0.1151 - accuracy: 0.9651 - val_loss: 0.1002 - val_accuracy: 0.9672 - 139ms/epoch - 4ms/step\n",
            "Epoch 58/100\n",
            "31/31 - 0s - loss: 0.1017 - accuracy: 0.9651 - val_loss: 0.0966 - val_accuracy: 0.9590 - 142ms/epoch - 5ms/step\n",
            "Epoch 59/100\n",
            "31/31 - 0s - loss: 0.0975 - accuracy: 0.9692 - val_loss: 0.0955 - val_accuracy: 0.9672 - 140ms/epoch - 5ms/step\n",
            "Epoch 60/100\n",
            "31/31 - 0s - loss: 0.0954 - accuracy: 0.9713 - val_loss: 0.0923 - val_accuracy: 0.9672 - 158ms/epoch - 5ms/step\n",
            "Epoch 61/100\n",
            "31/31 - 0s - loss: 0.1000 - accuracy: 0.9692 - val_loss: 0.0918 - val_accuracy: 0.9590 - 143ms/epoch - 5ms/step\n",
            "Epoch 62/100\n",
            "31/31 - 0s - loss: 0.0871 - accuracy: 0.9774 - val_loss: 0.0898 - val_accuracy: 0.9590 - 135ms/epoch - 4ms/step\n",
            "Epoch 63/100\n",
            "31/31 - 0s - loss: 0.0985 - accuracy: 0.9548 - val_loss: 0.0901 - val_accuracy: 0.9672 - 196ms/epoch - 6ms/step\n",
            "Epoch 64/100\n",
            "31/31 - 0s - loss: 0.1013 - accuracy: 0.9630 - val_loss: 0.0900 - val_accuracy: 0.9672 - 140ms/epoch - 5ms/step\n",
            "Epoch 65/100\n",
            "31/31 - 0s - loss: 0.0794 - accuracy: 0.9795 - val_loss: 0.0873 - val_accuracy: 0.9672 - 136ms/epoch - 4ms/step\n",
            "Epoch 66/100\n",
            "31/31 - 0s - loss: 0.0769 - accuracy: 0.9836 - val_loss: 0.0849 - val_accuracy: 0.9672 - 149ms/epoch - 5ms/step\n",
            "Epoch 67/100\n",
            "31/31 - 0s - loss: 0.0847 - accuracy: 0.9671 - val_loss: 0.0837 - val_accuracy: 0.9672 - 138ms/epoch - 4ms/step\n",
            "Epoch 68/100\n",
            "31/31 - 0s - loss: 0.0910 - accuracy: 0.9754 - val_loss: 0.0849 - val_accuracy: 0.9672 - 150ms/epoch - 5ms/step\n",
            "Epoch 69/100\n",
            "31/31 - 0s - loss: 0.0834 - accuracy: 0.9774 - val_loss: 0.0811 - val_accuracy: 0.9672 - 141ms/epoch - 5ms/step\n",
            "Epoch 70/100\n",
            "31/31 - 0s - loss: 0.0851 - accuracy: 0.9754 - val_loss: 0.0806 - val_accuracy: 0.9754 - 147ms/epoch - 5ms/step\n",
            "Epoch 71/100\n",
            "31/31 - 0s - loss: 0.0785 - accuracy: 0.9795 - val_loss: 0.0797 - val_accuracy: 0.9754 - 139ms/epoch - 4ms/step\n",
            "Epoch 72/100\n",
            "31/31 - 0s - loss: 0.0775 - accuracy: 0.9815 - val_loss: 0.0805 - val_accuracy: 0.9754 - 141ms/epoch - 5ms/step\n",
            "Epoch 73/100\n",
            "31/31 - 0s - loss: 0.0687 - accuracy: 0.9795 - val_loss: 0.0795 - val_accuracy: 0.9754 - 153ms/epoch - 5ms/step\n",
            "Epoch 74/100\n",
            "31/31 - 0s - loss: 0.0825 - accuracy: 0.9815 - val_loss: 0.0778 - val_accuracy: 0.9754 - 146ms/epoch - 5ms/step\n",
            "Epoch 75/100\n",
            "31/31 - 0s - loss: 0.0827 - accuracy: 0.9774 - val_loss: 0.0759 - val_accuracy: 0.9754 - 135ms/epoch - 4ms/step\n",
            "Epoch 76/100\n",
            "31/31 - 0s - loss: 0.0786 - accuracy: 0.9815 - val_loss: 0.0760 - val_accuracy: 0.9754 - 140ms/epoch - 5ms/step\n",
            "Epoch 77/100\n",
            "31/31 - 0s - loss: 0.0746 - accuracy: 0.9774 - val_loss: 0.0765 - val_accuracy: 0.9754 - 140ms/epoch - 5ms/step\n",
            "Epoch 78/100\n",
            "31/31 - 0s - loss: 0.0684 - accuracy: 0.9856 - val_loss: 0.0755 - val_accuracy: 0.9754 - 135ms/epoch - 4ms/step\n",
            "Epoch 79/100\n",
            "31/31 - 0s - loss: 0.0805 - accuracy: 0.9754 - val_loss: 0.0754 - val_accuracy: 0.9754 - 155ms/epoch - 5ms/step\n",
            "Epoch 80/100\n",
            "31/31 - 0s - loss: 0.0661 - accuracy: 0.9836 - val_loss: 0.0737 - val_accuracy: 0.9754 - 147ms/epoch - 5ms/step\n",
            "Epoch 81/100\n",
            "31/31 - 0s - loss: 0.0736 - accuracy: 0.9815 - val_loss: 0.0724 - val_accuracy: 0.9836 - 152ms/epoch - 5ms/step\n",
            "Epoch 82/100\n",
            "31/31 - 0s - loss: 0.0683 - accuracy: 0.9815 - val_loss: 0.0733 - val_accuracy: 0.9754 - 131ms/epoch - 4ms/step\n",
            "Epoch 83/100\n",
            "31/31 - 0s - loss: 0.0721 - accuracy: 0.9815 - val_loss: 0.0739 - val_accuracy: 0.9754 - 140ms/epoch - 5ms/step\n",
            "Epoch 84/100\n",
            "31/31 - 0s - loss: 0.0697 - accuracy: 0.9795 - val_loss: 0.0706 - val_accuracy: 0.9836 - 140ms/epoch - 5ms/step\n",
            "Epoch 85/100\n",
            "31/31 - 0s - loss: 0.0599 - accuracy: 0.9836 - val_loss: 0.0703 - val_accuracy: 0.9754 - 185ms/epoch - 6ms/step\n",
            "Epoch 86/100\n",
            "31/31 - 0s - loss: 0.0633 - accuracy: 0.9836 - val_loss: 0.0702 - val_accuracy: 0.9836 - 177ms/epoch - 6ms/step\n",
            "Epoch 87/100\n",
            "31/31 - 0s - loss: 0.0703 - accuracy: 0.9815 - val_loss: 0.0721 - val_accuracy: 0.9754 - 143ms/epoch - 5ms/step\n",
            "Epoch 88/100\n",
            "31/31 - 0s - loss: 0.0596 - accuracy: 0.9877 - val_loss: 0.0675 - val_accuracy: 0.9754 - 138ms/epoch - 4ms/step\n",
            "Epoch 89/100\n",
            "31/31 - 0s - loss: 0.0686 - accuracy: 0.9877 - val_loss: 0.0673 - val_accuracy: 0.9754 - 139ms/epoch - 4ms/step\n",
            "Epoch 90/100\n",
            "31/31 - 0s - loss: 0.0589 - accuracy: 0.9877 - val_loss: 0.0673 - val_accuracy: 0.9836 - 147ms/epoch - 5ms/step\n",
            "Epoch 91/100\n",
            "31/31 - 0s - loss: 0.0595 - accuracy: 0.9856 - val_loss: 0.0648 - val_accuracy: 0.9754 - 135ms/epoch - 4ms/step\n",
            "Epoch 92/100\n",
            "31/31 - 0s - loss: 0.0568 - accuracy: 0.9856 - val_loss: 0.0652 - val_accuracy: 0.9836 - 140ms/epoch - 5ms/step\n",
            "Epoch 93/100\n",
            "31/31 - 0s - loss: 0.0614 - accuracy: 0.9836 - val_loss: 0.0643 - val_accuracy: 0.9754 - 158ms/epoch - 5ms/step\n",
            "Epoch 94/100\n",
            "31/31 - 0s - loss: 0.0595 - accuracy: 0.9877 - val_loss: 0.0650 - val_accuracy: 0.9836 - 141ms/epoch - 5ms/step\n",
            "Epoch 95/100\n",
            "31/31 - 0s - loss: 0.0468 - accuracy: 0.9918 - val_loss: 0.0621 - val_accuracy: 0.9754 - 152ms/epoch - 5ms/step\n",
            "Epoch 96/100\n",
            "31/31 - 0s - loss: 0.0581 - accuracy: 0.9815 - val_loss: 0.0664 - val_accuracy: 0.9754 - 144ms/epoch - 5ms/step\n",
            "Epoch 97/100\n",
            "31/31 - 0s - loss: 0.0540 - accuracy: 0.9918 - val_loss: 0.0601 - val_accuracy: 0.9836 - 143ms/epoch - 5ms/step\n",
            "Epoch 98/100\n",
            "31/31 - 0s - loss: 0.0656 - accuracy: 0.9774 - val_loss: 0.0618 - val_accuracy: 0.9836 - 137ms/epoch - 4ms/step\n",
            "Epoch 99/100\n",
            "31/31 - 0s - loss: 0.0384 - accuracy: 0.9979 - val_loss: 0.0581 - val_accuracy: 0.9836 - 143ms/epoch - 5ms/step\n",
            "Epoch 100/100\n",
            "31/31 - 0s - loss: 0.0408 - accuracy: 0.9918 - val_loss: 0.0580 - val_accuracy: 0.9754 - 148ms/epoch - 5ms/step\n"
          ]
        }
      ]
    },
    {
      "cell_type": "markdown",
      "metadata": {
        "id": "VTYiC5vz8ryk"
      },
      "source": [
        "# Evaluating the Model"
      ]
    },
    {
      "cell_type": "code",
      "metadata": {
        "colab": {
          "base_uri": "https://localhost:8080/"
        },
        "id": "vdskO6gN8jg9",
        "outputId": "162a683b-8059-4e38-b5f4-95768e6c7cbc"
      },
      "source": [
        "\n",
        "# Evaluating the model on the training and testing set\n",
        "score = model.evaluate(X_train, y_train)\n",
        "print(\"\\n Training Accuracy:\", score[1])\n",
        "\n",
        "score = model.evaluate(X_test, y_test, verbose=0)\n",
        "print(\"\\n Testing accuracy: \", score[1])"
      ],
      "execution_count": 53,
      "outputs": [
        {
          "output_type": "stream",
          "name": "stdout",
          "text": [
            "16/16 [==============================] - 0s 3ms/step - loss: 0.0278 - accuracy: 1.0000\n",
            "\n",
            " Training Accuracy: 1.0\n",
            "\n",
            " Testing accuracy:  0.9754098653793335\n"
          ]
        }
      ]
    },
    {
      "cell_type": "markdown",
      "metadata": {
        "id": "pGHzcgUO96Pe"
      },
      "source": [
        "# Conclusion"
      ]
    },
    {
      "cell_type": "markdown",
      "metadata": {
        "id": "BkINkPza93v1"
      },
      "source": [
        "After exploring my ASD dataset with different kind of learning algorithms, I have arrived into this conclusion that all of my model work extremely well with the data. I have used three different metric (such as accuracy, AUC score and F-score) to measure the performance of my models, and it seems like all of the metric indicated an almost perfect classification of the ASD cases. Here I think the reason of this high performances with different models is the fact that only one of the feature is predominant over all others which I confirmed with the Feature Importance section in this notebook.\n",
        "\n",
        "\n",
        "I think to build a more accurate model, we need to have access to more larger datasets. Here the number of instances after cleaning the data were not so sufficient enough so that I can claim that this model is optimum. As this dataset is only publicly available from Decemeber 2017, I think not many works that deal with this dataset is available online. In that consideration, my models can serve as benchmark models for any machine learning researcher/practitioner who will be interested to explore this dataset further. With this fact in mind, I think this are very well developed model that can detect ASD in indivisuals with certain given attributes."
      ]
    }
  ]
}